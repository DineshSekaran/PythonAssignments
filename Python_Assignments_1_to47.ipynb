{
 "cells": [
  {
   "cell_type": "markdown",
   "metadata": {},
   "source": [
    "# 1 Write a Python program to get the string from the given string where all the occurrence of its first char has been changed to '$' except first char itself?\n",
    "\n",
    "Sample String: 'prospect'\n",
    "Expected Result : 'pros$ect'"
   ]
  },
  {
   "cell_type": "code",
   "execution_count": 80,
   "metadata": {},
   "outputs": [
    {
     "name": "stdout",
     "output_type": "stream",
     "text": [
      "Expected Output : pros$ect\n"
     ]
    }
   ],
   "source": [
    "#Ans1:\n",
    "sample_string='prospect'\n",
    "pos=sample_string.find('p',sample_string.find('p')+1)\n",
    "pos1=sample_string.find('p',1)\n",
    "sample_string=sample_string[:pos1]+'$'+sample_string[pos1+1:]\n",
    "print('Expected Output :',sample_string)"
   ]
  },
  {
   "cell_type": "code",
   "execution_count": 138,
   "metadata": {},
   "outputs": [
    {
     "name": "stdout",
     "output_type": "stream",
     "text": [
      "pros$ect\n"
     ]
    }
   ],
   "source": [
    "#Ans1:\n",
    "sample_string='prospect'\n",
    "ch=sample_string[0]\n",
    "sample_string=sample_string.replace('p','$')\n",
    "op=ch+sample_string[1:]\n",
    "print(op)"
   ]
  },
  {
   "cell_type": "markdown",
   "metadata": {},
   "source": [
    "# Q2. Write a Python program to get the single string from the two given strings, and separated by the space and swap the first two characters of each string?"
   ]
  },
  {
   "cell_type": "code",
   "execution_count": 79,
   "metadata": {},
   "outputs": [
    {
     "name": "stdout",
     "output_type": "stream",
     "text": [
      "abc,xyz\n",
      "xyc ,abz\n"
     ]
    }
   ],
   "source": [
    "#Ans2 Manual one\n",
    "que2='abc,xyz'\n",
    "print(que2)\n",
    "pos=que2.find(',')\n",
    "op=que2[pos+1:pos+3]+que2[pos-1:3] +\" ,\"+que2[0:pos-1:]+que2[-1:]\n",
    "print(op)"
   ]
  },
  {
   "cell_type": "code",
   "execution_count": 58,
   "metadata": {},
   "outputs": [
    {
     "name": "stdout",
     "output_type": "stream",
     "text": [
      "['abc', 'xyz']\n"
     ]
    }
   ],
   "source": [
    "#ANs convert to list and then find \n",
    "inputStr2='abc xyz'\n",
    "strs = inputStr2.split()\n",
    "print(strs)"
   ]
  },
  {
   "cell_type": "code",
   "execution_count": 60,
   "metadata": {},
   "outputs": [
    {
     "data": {
      "text/plain": [
       "'xyc abz'"
      ]
     },
     "execution_count": 60,
     "metadata": {},
     "output_type": "execute_result"
    }
   ],
   "source": [
    "#Take from List\n",
    "strs[1][:2] + strs[0][2:] + \" \" +strs[0][:2] + strs[1][2:]"
   ]
  },
  {
   "cell_type": "markdown",
   "metadata": {},
   "source": [
    "# Q3. Write the Python program to add 'ing' at the end of the given string (length of the string should be at least 3). If given string already ends with 'ing,' then add 'ly' instead. If string length of the given string is less than 3, leave it unchanged?"
   ]
  },
  {
   "cell_type": "code",
   "execution_count": 139,
   "metadata": {},
   "outputs": [
    {
     "name": "stdout",
     "output_type": "stream",
     "text": [
      "Enter some string:abc\n",
      "abcing\n"
     ]
    }
   ],
   "source": [
    "#Ans3 Codn stmnt\n",
    "Que3=input('Enter some string:')\n",
    "sss=Que3\n",
    "if len(sss)< 3: \n",
    "    print(sss)\n",
    "elif len(sss)==3:\n",
    "    print(sss+'ing')\n",
    "else:\n",
    "    print(sss+'ly')"
   ]
  },
  {
   "cell_type": "code",
   "execution_count": 81,
   "metadata": {},
   "outputs": [],
   "source": [
    "def addStr3(str) :\n",
    "    if len(str) > 2 :\n",
    "        if(str[-3:] == 'ing') :\n",
    "            return str + 'ly'\n",
    "        else :\n",
    "            return str + 'ing'\n",
    "    return str"
   ]
  },
  {
   "cell_type": "code",
   "execution_count": 83,
   "metadata": {},
   "outputs": [
    {
     "data": {
      "text/plain": [
       "'abcing'"
      ]
     },
     "execution_count": 83,
     "metadata": {},
     "output_type": "execute_result"
    }
   ],
   "source": [
    "addStr3('abc')"
   ]
  },
  {
   "cell_type": "code",
   "execution_count": 84,
   "metadata": {},
   "outputs": [
    {
     "data": {
      "text/plain": [
       "'Stringly'"
      ]
     },
     "execution_count": 84,
     "metadata": {},
     "output_type": "execute_result"
    }
   ],
   "source": [
    "addStr3('String')"
   ]
  },
  {
   "cell_type": "markdown",
   "metadata": {},
   "source": [
    "# Q4)  Write the Python program to find the first appearance of the substring 'not' and 'poor' from the given string, if 'not' follows the 'poor', replace the whole 'not'...' poor' substring with 'good'.Return the resulting string."
   ]
  },
  {
   "cell_type": "code",
   "execution_count": 87,
   "metadata": {},
   "outputs": [
    {
     "name": "stdout",
     "output_type": "stream",
     "text": [
      "The lyrics are not that poor!' 'The lyrics are poor!---> good\n"
     ]
    }
   ],
   "source": [
    "#Ans4\n",
    "inputStr4 = \"The lyrics are not that poor!' 'The lyrics are poor!\"\n",
    "replaceStr = 'good' \n",
    "print(inputStr4+\"---> \"+replaceStr)"
   ]
  },
  {
   "cell_type": "code",
   "execution_count": 94,
   "metadata": {},
   "outputs": [
    {
     "data": {
      "text/plain": [
       "\"The lyrics are good!' 'The lyrics are poor!\""
      ]
     },
     "execution_count": 94,
     "metadata": {},
     "output_type": "execute_result"
    }
   ],
   "source": [
    "findStr = inputStr4[inputStr4.find('not'):(inputStr4.find('poor') + len('poor'))]\n",
    "inputStr4.replace(findStr,replaceStr)\n"
   ]
  },
  {
   "cell_type": "markdown",
   "metadata": {},
   "source": [
    "# Q5. Write the Python program to remove the characters which have odd index values of a given string."
   ]
  },
  {
   "cell_type": "code",
   "execution_count": 172,
   "metadata": {},
   "outputs": [
    {
     "name": "stdout",
     "output_type": "stream",
     "text": [
      "['a', 'c', 'e']\n"
     ]
    }
   ],
   "source": [
    "#Ans5 To get even occurence values\n",
    "ans5='abcdef'\n",
    "res=list()\n",
    "for i in range(len(ans5)):\n",
    "    if i%2==0:\n",
    "        a=ans5[i]\n",
    "        res.append(a)\n",
    "print(res)"
   ]
  },
  {
   "cell_type": "code",
   "execution_count": 173,
   "metadata": {},
   "outputs": [
    {
     "data": {
      "text/plain": [
       "'ace'"
      ]
     },
     "execution_count": 173,
     "metadata": {},
     "output_type": "execute_result"
    }
   ],
   "source": [
    "string_op.join(res)"
   ]
  },
  {
   "cell_type": "code",
   "execution_count": 85,
   "metadata": {},
   "outputs": [
    {
     "name": "stdout",
     "output_type": "stream",
     "text": [
      "Input String = Python_Programming\n",
      "Output String = Pto_rgamn\n"
     ]
    }
   ],
   "source": [
    "# ALternate\n",
    "str5 = \"Python_Programming\"\n",
    "print(\"Input String = {}\".format(str5))\n",
    "index = 0\n",
    "result =\"\"\n",
    "for i in str5:\n",
    "  if(index % 2 == 0):\n",
    "    result = result + i\n",
    "  index = index + 1 \n",
    "print(\"Output String = {}\".format(result))"
   ]
  },
  {
   "cell_type": "code",
   "execution_count": 2,
   "metadata": {},
   "outputs": [],
   "source": [
    "#Ans5  To get even occurence values\n",
    "def ans5(p_str):\n",
    "    initial_str=p_str\n",
    "    answer=''\n",
    "    for i in range(len(initial_str)):\n",
    "        if i%2==0:\n",
    "            answer=answer+initial_str[i]\n",
    "    return answer            "
   ]
  },
  {
   "cell_type": "code",
   "execution_count": 3,
   "metadata": {},
   "outputs": [
    {
     "data": {
      "text/plain": [
       "'acefhjl'"
      ]
     },
     "execution_count": 3,
     "metadata": {},
     "output_type": "execute_result"
    }
   ],
   "source": [
    "ans5('abcderfghijkl')"
   ]
  },
  {
   "cell_type": "markdown",
   "metadata": {},
   "source": [
    "# Q6. Write the Python function to get a string made of 4 copies of the last two characters of the specified string (length must be at least 2)"
   ]
  },
  {
   "cell_type": "code",
   "execution_count": 5,
   "metadata": {},
   "outputs": [],
   "source": [
    "# Ans6\n",
    "def mult_copies(p6_str):\n",
    "    op=p6_str\n",
    "    op=op[-2:]*4\n",
    "    return op\n"
   ]
  },
  {
   "cell_type": "code",
   "execution_count": 6,
   "metadata": {},
   "outputs": [
    {
     "data": {
      "text/plain": [
       "'onononon'"
      ]
     },
     "execution_count": 6,
     "metadata": {},
     "output_type": "execute_result"
    }
   ],
   "source": [
    "mult_copies('python')"
   ]
  },
  {
   "cell_type": "code",
   "execution_count": 7,
   "metadata": {},
   "outputs": [
    {
     "data": {
      "text/plain": [
       "'eseseses'"
      ]
     },
     "execution_count": 7,
     "metadata": {},
     "output_type": "execute_result"
    }
   ],
   "source": [
    "mult_copies('exercises')"
   ]
  },
  {
   "cell_type": "code",
   "execution_count": 10,
   "metadata": {},
   "outputs": [],
   "source": [
    "def ans6(p6_str):\n",
    "    ans6=p6_str\n",
    "    op=''\n",
    "    for i in range(4):\n",
    "        op=op+ans6[-2:]\n",
    "    return op"
   ]
  },
  {
   "cell_type": "code",
   "execution_count": 11,
   "metadata": {},
   "outputs": [
    {
     "data": {
      "text/plain": [
       "'eseseses'"
      ]
     },
     "execution_count": 11,
     "metadata": {},
     "output_type": "execute_result"
    }
   ],
   "source": [
    "ans6('exercises')"
   ]
  },
  {
   "cell_type": "code",
   "execution_count": 12,
   "metadata": {},
   "outputs": [
    {
     "data": {
      "text/plain": [
       "'onononon'"
      ]
     },
     "execution_count": 12,
     "metadata": {},
     "output_type": "execute_result"
    }
   ],
   "source": [
    "ans6('python')"
   ]
  },
  {
   "cell_type": "markdown",
   "metadata": {},
   "source": [
    "# Q7. Write the python function to get a string made of its first three characters of a specified string. If the length of the string is less than 3 then return the original string"
   ]
  },
  {
   "cell_type": "code",
   "execution_count": 15,
   "metadata": {},
   "outputs": [],
   "source": [
    "#Ans7\n",
    "def ans7(p7):\n",
    "    var=p7\n",
    "    if len(var)>3:\n",
    "        op=var[:3]\n",
    "    else:\n",
    "        op=var\n",
    "    return op        "
   ]
  },
  {
   "cell_type": "code",
   "execution_count": 16,
   "metadata": {},
   "outputs": [
    {
     "data": {
      "text/plain": [
       "'Pyt'"
      ]
     },
     "execution_count": 16,
     "metadata": {},
     "output_type": "execute_result"
    }
   ],
   "source": [
    "ans7('Python')"
   ]
  },
  {
   "cell_type": "code",
   "execution_count": 17,
   "metadata": {},
   "outputs": [
    {
     "data": {
      "text/plain": [
       "'din'"
      ]
     },
     "execution_count": 17,
     "metadata": {},
     "output_type": "execute_result"
    }
   ],
   "source": [
    "ans7('din')"
   ]
  },
  {
   "cell_type": "markdown",
   "metadata": {},
   "source": [
    "# Q8. Write the python program to print the following floating numbers up to 2 decimal places?"
   ]
  },
  {
   "cell_type": "code",
   "execution_count": 28,
   "metadata": {},
   "outputs": [
    {
     "name": "stdout",
     "output_type": "stream",
     "text": [
      "10.42444\n",
      "The two decimal float values 10.42\n",
      "The float value is 10.42\n",
      "<class 'float'>\n"
     ]
    }
   ],
   "source": [
    "# Ans8\n",
    "a=5.21222*2\n",
    "print(a)\n",
    "print(\"The two decimal float values \"+\"{:.2f}\".format(a));\n",
    "print(\"The float value is %.2f\" %(a))\n",
    "print(type(a))"
   ]
  },
  {
   "cell_type": "markdown",
   "metadata": {},
   "source": [
    "# Q9 Write the Python program to format a number with a percentage"
   ]
  },
  {
   "cell_type": "code",
   "execution_count": 32,
   "metadata": {},
   "outputs": [
    {
     "name": "stdout",
     "output_type": "stream",
     "text": [
      "Formatted Number with percentage: 1.00%\n"
     ]
    }
   ],
   "source": [
    "#Ans9\n",
    "a=0.01\n",
    "print(\"Formatted Number with percentage: \"+\"{:.2%}\".format(a));"
   ]
  },
  {
   "cell_type": "code",
   "execution_count": 39,
   "metadata": {},
   "outputs": [
    {
     "name": "stdout",
     "output_type": "stream",
     "text": [
      "0.1%\n"
     ]
    }
   ],
   "source": [
    "a=0.10\n",
    "print (\"{0:.2}%\".format(a))"
   ]
  },
  {
   "cell_type": "markdown",
   "metadata": {},
   "source": [
    "# Q10. Write the Python program to count occurrences of a substring in a String?"
   ]
  },
  {
   "cell_type": "code",
   "execution_count": 67,
   "metadata": {},
   "outputs": [
    {
     "name": "stdout",
     "output_type": "stream",
     "text": [
      "{'at': 2, 'by': 1, 'my': 1, 'of': 1}\n",
      "<class 'dict'>\n"
     ]
    }
   ],
   "source": [
    "# Ans10\n",
    "var_str='at by at my of'\n",
    "li = list(var_str.split(\" \")) \n",
    "op=dict()\n",
    "for i in li:\n",
    "    if i in op:\n",
    "        op[i]=op[i]+1\n",
    "    else:\n",
    "        op[i]=1\n",
    "print(op)\n",
    "print(type(op))"
   ]
  },
  {
   "cell_type": "code",
   "execution_count": 69,
   "metadata": {},
   "outputs": [
    {
     "name": "stdout",
     "output_type": "stream",
     "text": [
      "{'a': 2, 'c': 1, 'r': 1, 'g': 1, 'y': 1, 'e': 1, 'b': 2}\n"
     ]
    }
   ],
   "source": [
    "# Ans10 #Word counting\n",
    "words=['a','c','r','g','y','e','b','b','a']\n",
    "my_dict=dict()\n",
    "for i in words:\n",
    "    \n",
    "    if i in my_dict:\n",
    "        my_dict[i]=my_dict[i]+1\n",
    "        \n",
    "    else:\n",
    "        my_dict[i]=1\n",
    "print(my_dict) "
   ]
  },
  {
   "cell_type": "markdown",
   "metadata": {},
   "source": [
    "# Q11. Write the Python program to count repeated characters in a string."
   ]
  },
  {
   "cell_type": "code",
   "execution_count": 1,
   "metadata": {},
   "outputs": [
    {
     "name": "stdout",
     "output_type": "stream",
     "text": [
      "['t', 'h', 'e', 'q', 'u', 'i', 'c', 'k', 'b', 'r', 'o', 'w', 'n', 'j', 'u', 'm', 'p', 's', 'o', 'v', 'e', 'r', 't', 'h', 'e', 'l', 'a', 'z', 'y', 'd', 'o', 'g']\n"
     ]
    }
   ],
   "source": [
    "#Ans11\n",
    "var_11='thequickbrownjumpsoverthelazydog'\n",
    "leng=len(var_11)\n",
    "result=list()\n",
    "for i in range(0,leng):\n",
    "    result.append(var_11[i])\n",
    "print(result)    "
   ]
  },
  {
   "cell_type": "code",
   "execution_count": 3,
   "metadata": {},
   "outputs": [
    {
     "name": "stdout",
     "output_type": "stream",
     "text": [
      "{'t': 2, 'h': 2, 'e': 3, 'q': 1, 'u': 2, 'i': 1, 'c': 1, 'k': 1, 'b': 1, 'r': 2, 'o': 3, 'w': 1, 'n': 1, 'j': 1, 'm': 1, 'p': 1, 's': 1, 'v': 1, 'l': 1, 'a': 1, 'z': 1, 'y': 1, 'd': 1, 'g': 1}\n"
     ]
    }
   ],
   "source": [
    "op11=dict()\n",
    "for i in result:\n",
    "    if i in op11:\n",
    "    \n",
    "        op11[i]=op11[i]+1\n",
    "    else:\n",
    "        op11[i]=1\n",
    "print(op11)        \n",
    "        "
   ]
  },
  {
   "cell_type": "code",
   "execution_count": 4,
   "metadata": {},
   "outputs": [
    {
     "name": "stdout",
     "output_type": "stream",
     "text": [
      "t 2\n",
      "h 2\n",
      "e 3\n",
      "u 2\n",
      "r 2\n",
      "o 3\n"
     ]
    }
   ],
   "source": [
    "for key in op11:\n",
    "    if op11[key]>1:\n",
    "        print(key,op11[key])\n",
    "        "
   ]
  },
  {
   "cell_type": "code",
   "execution_count": 8,
   "metadata": {},
   "outputs": [
    {
     "name": "stdout",
     "output_type": "stream",
     "text": [
      "t 2\n",
      "h 2\n",
      "e 3\n",
      "u 2\n",
      "r 2\n",
      "o 3\n"
     ]
    }
   ],
   "source": [
    "#Ans11\n",
    "var_11='thequickbrownjumpsoverthelazydog'\n",
    "dic_11=dict()\n",
    "for i in var_11:\n",
    "    dic_11[i]=dic_11.get(i,0)+1\n",
    "for key in dic_11:\n",
    "    if dic_11[key]>1:\n",
    "        print(key,dic_11[key])"
   ]
  },
  {
   "cell_type": "markdown",
   "metadata": {},
   "source": [
    "# Q12. Write the Python program to print the square and cube symbol in the area of a rectangle and volume of a cylinder?"
   ]
  },
  {
   "cell_type": "code",
   "execution_count": 57,
   "metadata": {},
   "outputs": [
    {
     "name": "stdout",
     "output_type": "stream",
     "text": [
      "The area of the rectangle is 1256.66 cm²\n",
      "The volume of the cylinder is 1254.725 cm³\n"
     ]
    }
   ],
   "source": [
    "area = 1256.66\n",
    "volume = 1254.725\n",
    "\n",
    "print(\"The area of the rectangle is {0:.{1}f} cm\\u00b2\".format(area,2))\n",
    "print(\"The volume of the cylinder is {0:.{1}f} cm\\u00b3\".format(volume,3))"
   ]
  },
  {
   "cell_type": "markdown",
   "metadata": {},
   "source": [
    "# Q13. Write the Python program to check if a string contains all letters of the alphabet?"
   ]
  },
  {
   "cell_type": "code",
   "execution_count": 9,
   "metadata": {},
   "outputs": [],
   "source": [
    "#Ans13\n",
    "def validatealpha(p_13):\n",
    "    alpha='abcdefghijklmnopqrstuvwxyz'\n",
    "    valid=True\n",
    "    for i in alpha:\n",
    "        if i in p_13:\n",
    "            continue\n",
    "        else:\n",
    "            valid=False\n",
    "            break\n",
    "    return valid"
   ]
  },
  {
   "cell_type": "code",
   "execution_count": 12,
   "metadata": {},
   "outputs": [
    {
     "data": {
      "text/plain": [
       "True"
      ]
     },
     "execution_count": 12,
     "metadata": {},
     "output_type": "execute_result"
    }
   ],
   "source": [
    "validatealpha('abcdefghijklmnopqrstuvwxyz')"
   ]
  },
  {
   "cell_type": "code",
   "execution_count": 13,
   "metadata": {},
   "outputs": [
    {
     "data": {
      "text/plain": [
       "False"
      ]
     },
     "execution_count": 13,
     "metadata": {},
     "output_type": "execute_result"
    }
   ],
   "source": [
    "validatealpha('dinesh')"
   ]
  },
  {
   "cell_type": "code",
   "execution_count": 15,
   "metadata": {},
   "outputs": [
    {
     "name": "stdout",
     "output_type": "stream",
     "text": [
      "Missing Aplhabets\n"
     ]
    }
   ],
   "source": [
    "#Ans13\n",
    "var13='dinesh'\n",
    "alpha='abcdefghijklmnopqrstuvwxyz'\n",
    "op=''\n",
    "for i in alpha:\n",
    "    if i in var13:\n",
    "        op='All Alphabets are present'\n",
    "    else:\n",
    "        op='Missing Aplhabets'\n",
    "        break\n",
    "print(op)        "
   ]
  },
  {
   "cell_type": "markdown",
   "metadata": {},
   "source": [
    "# Q14. Write the Python program to find the second most repeated word in a given string?"
   ]
  },
  {
   "cell_type": "code",
   "execution_count": 19,
   "metadata": {},
   "outputs": [
    {
     "name": "stdout",
     "output_type": "stream",
     "text": [
      "t 2\n",
      "h 2\n",
      "u 2\n",
      "r 2\n"
     ]
    }
   ],
   "source": [
    "# Ans14:string to word converted\n",
    "var_11='thequickbrownjumpsoverthelazydog'\n",
    "leng=len(var_11)\n",
    "result=list()\n",
    "for i in range(0,leng):\n",
    "    result.append(var_11[i])\n",
    "#print(result) \n",
    "\n",
    "op11=dict()\n",
    "for i in result:\n",
    "    if i in op11:\n",
    "    \n",
    "        op11[i]=op11[i]+1\n",
    "    else:\n",
    "        op11[i]=1\n",
    "#print(op11)\n",
    "\n",
    "m=max(op11.values())\n",
    "for key in op11:\n",
    "    if op11[key]<m and op11[key]==m-1:\n",
    "        print(key,op11[key])\n",
    "        "
   ]
  },
  {
   "cell_type": "code",
   "execution_count": null,
   "metadata": {},
   "outputs": [],
   "source": [
    "# Ans14: Alternate method "
   ]
  },
  {
   "cell_type": "markdown",
   "metadata": {},
   "source": [
    "# Q15. Write the Python program to find the minimum window in the given string, which will contains all the characters of another given strings?"
   ]
  },
  {
   "cell_type": "code",
   "execution_count": null,
   "metadata": {},
   "outputs": [],
   "source": []
  },
  {
   "cell_type": "markdown",
   "metadata": {},
   "source": [
    "# Write the Python program to find smallest window that contains all characters of the given string?"
   ]
  },
  {
   "cell_type": "code",
   "execution_count": null,
   "metadata": {},
   "outputs": [],
   "source": []
  },
  {
   "cell_type": "markdown",
   "metadata": {},
   "source": [
    "# Q17. Write the Python program to count number of substrings from a given string of lowercase alphabets with exactly k distinct (given) characters?"
   ]
  },
  {
   "cell_type": "code",
   "execution_count": null,
   "metadata": {},
   "outputs": [],
   "source": [
    "Input a string (lowercase alphabets): wolf \n",
    "Input k: 4 \n",
    "Number of substrings with exactly 4 distinct characters: 1"
   ]
  },
  {
   "cell_type": "code",
   "execution_count": 20,
   "metadata": {},
   "outputs": [],
   "source": [
    "def count_k_dist(str1, k): \n",
    "    str_len = len(str1) \n",
    "    print(str_len)\n",
    "    result = 0\n",
    "    print(result)\n",
    "    ctr = [0] * 27\n",
    "    print(ctr)\n",
    "\n",
    "    for i in range(0, str_len): \n",
    "        dist_ctr = 0\n",
    "\n",
    "        ctr = [0] * 27\n",
    "\n",
    "        for j in range(i, str_len): \n",
    "            if(ctr[ord(str1[j]) - 97] == 0): \n",
    "                dist_ctr += 1\n",
    "\n",
    "            ctr[ord(str1[j]) - 97] += 1\n",
    "\n",
    "            if(dist_ctr == k): \n",
    "                result += 1\n",
    "            if(dist_ctr > k): \n",
    "                break\n",
    "\n",
    "    return result "
   ]
  },
  {
   "cell_type": "code",
   "execution_count": 26,
   "metadata": {},
   "outputs": [
    {
     "data": {
      "text/plain": [
       "1"
      ]
     },
     "execution_count": 26,
     "metadata": {},
     "output_type": "execute_result"
    }
   ],
   "source": [
    "count_k_dist('dines',5)"
   ]
  },
  {
   "cell_type": "code",
   "execution_count": 63,
   "metadata": {},
   "outputs": [
    {
     "name": "stdout",
     "output_type": "stream",
     "text": [
      "1\n"
     ]
    }
   ],
   "source": [
    "str1='wolf'\n",
    "k=4\n",
    "str_len = len(str1) \n",
    "result = 0\n",
    "ctr = [0] * 27\n",
    "\n",
    "for i in range(0, str_len): \n",
    "    dist_ctr = 0\n",
    "    ctr = [0] * 27\n",
    "     \n",
    "    for j in range(i, str_len): \n",
    "        #print(j,str_len)\n",
    "        if(ctr[ord(str1[j]) - 97] == 0): \n",
    "           \n",
    "            dist_ctr += 1\n",
    "        ctr[ord(str1[j]) - 97] += 1\n",
    "\n",
    "        if(dist_ctr == k): \n",
    "            result += 1\n",
    "            #print('',dist_ctr) \n",
    "        if(dist_ctr > k): \n",
    "            #print('',dist_ctr) \n",
    "            break\n",
    "print(dist_ctr)        "
   ]
  },
  {
   "cell_type": "code",
   "execution_count": 81,
   "metadata": {},
   "outputs": [
    {
     "name": "stdout",
     "output_type": "stream",
     "text": [
      "{'w': 1, 'o': 1, 'l': 1, 'f': 1}\n",
      "4\n",
      "Distinct\n"
     ]
    }
   ],
   "source": [
    "# Ans17:\n",
    "str14='wolf'\n",
    "k=4\n",
    "l=list()\n",
    "f=list()\n",
    "dic_11=dict()\n",
    "for i in str14:\n",
    "    dic_11[i]=dic_11.get(i,0)+1\n",
    "print(dic_11)\n",
    "l=dic_11.keys()\n",
    "for i in l:\n",
    "    f.append(i)\n",
    "print(len(f))\n",
    "if len(f)==k:\n",
    "    print('Distinct')"
   ]
  },
  {
   "cell_type": "code",
   "execution_count": 3,
   "metadata": {},
   "outputs": [
    {
     "name": "stdout",
     "output_type": "stream",
     "text": [
      "1\n"
     ]
    }
   ],
   "source": [
    "# Ans17:\n",
    "str14='wolf'\n",
    "k=4\n",
    "l=list()\n",
    "f=list()\n",
    "dic_11=dict()\n",
    "for i in str14:\n",
    "    dic_11[i]=dic_11.get(i,0)+1\n",
    "#print(dic_11)\n",
    "l=dic_11.keys()\n",
    "for i in l:\n",
    "    f.append(i)\n",
    "#print(len(f))\n",
    "if len(f)==k:\n",
    "    print(1)\n",
    "else:\n",
    "    print(0)"
   ]
  },
  {
   "cell_type": "markdown",
   "metadata": {},
   "source": [
    "# Q18. Write the Python program to count number of non-empty substrings of the given string?"
   ]
  },
  {
   "cell_type": "code",
   "execution_count": 26,
   "metadata": {},
   "outputs": [
    {
     "name": "stdout",
     "output_type": "stream",
     "text": [
      "55\n"
     ]
    }
   ],
   "source": [
    "# Ans18:\n",
    "str_18='w3resource'\n",
    "count=0\n",
    "for i in range(len(str_18)+1):\n",
    "    count=count+i\n",
    "print(count)    "
   ]
  },
  {
   "cell_type": "code",
   "execution_count": 27,
   "metadata": {},
   "outputs": [
    {
     "name": "stdout",
     "output_type": "stream",
     "text": [
      "55\n"
     ]
    }
   ],
   "source": [
    "# Ans18:\n",
    "str_18='w3resource'\n",
    "l_18=list()\n",
    "count=0\n",
    "for i in range(len(str_18)+1):\n",
    "    l_18.append(i)\n",
    "print(sum(l_18))  "
   ]
  },
  {
   "cell_type": "code",
   "execution_count": 24,
   "metadata": {},
   "outputs": [
    {
     "data": {
      "text/plain": [
       "55"
      ]
     },
     "execution_count": 24,
     "metadata": {},
     "output_type": "execute_result"
    }
   ],
   "source": [
    "# Ans18:\n",
    "#Formula n(n+1/2)\n",
    "str_18='w3resource'\n",
    "int(len(str_18) * (len(str_18) + 1) / 2)"
   ]
  },
  {
   "cell_type": "markdown",
   "metadata": {},
   "source": [
    "# Q19. Write the Python program to count number of substrings with same first and last characters of the given string?\n",
    "Input a string: abcd 4"
   ]
  },
  {
   "cell_type": "code",
   "execution_count": 18,
   "metadata": {},
   "outputs": [
    {
     "name": "stdout",
     "output_type": "stream",
     "text": [
      "a a\n",
      "a b\n",
      "a c\n",
      "b b\n",
      "b c\n",
      "c c\n",
      "3\n"
     ]
    }
   ],
   "source": [
    "#Ans19\n",
    "def getSubStrWithSameFirstLastChar(str):\n",
    "    n = len(str)\n",
    "    count = 0\n",
    "    for i in range(n) :\n",
    "        for j in range(i,n) :\n",
    "            print(str[i],str[j])\n",
    "            if(str[i] == str[j]) :\n",
    "                count = count + 1\n",
    "    return count\n",
    "\n",
    "print(getSubStrWithSameFirstLastChar('abc'))"
   ]
  },
  {
   "cell_type": "markdown",
   "metadata": {},
   "source": [
    "# Q20. Write the Python program to count the number of strings where the string length is 2 or more, and first and last character are same from a given list of strings.\n",
    "Sample List : ['abc', 'xyz', 'wxw', '1331'] \n",
    "    Expected Result: 2"
   ]
  },
  {
   "cell_type": "code",
   "execution_count": 29,
   "metadata": {},
   "outputs": [
    {
     "name": "stdout",
     "output_type": "stream",
     "text": [
      "2\n"
     ]
    }
   ],
   "source": [
    "#Ans20\n",
    "str_20=['abc', 'xyz', 'wxw', '1331']\n",
    "count=0\n",
    "for i in str_20:\n",
    "    if i[0]==i[-1]:\n",
    "        count=count+1\n",
    "print(count)        "
   ]
  },
  {
   "cell_type": "markdown",
   "metadata": {},
   "source": [
    "# 21 Write the Python program to get a list, sorted in increasing order by the last element in each tuple from the given list of non-empty tuples?"
   ]
  },
  {
   "cell_type": "code",
   "execution_count": 43,
   "metadata": {},
   "outputs": [
    {
     "data": {
      "text/plain": [
       "[(2, 1), (1, 2), (2, 3), (4, 4), (2, 5)]"
      ]
     },
     "execution_count": 43,
     "metadata": {},
     "output_type": "execute_result"
    }
   ],
   "source": [
    "def fun(n):\n",
    "    return n[-1]\n",
    "\n",
    "inputList = [ (2, 5), (1, 2), (4, 4), (2, 3), (2, 1) ]\n",
    "sorted(inputList, key = fun)"
   ]
  },
  {
   "cell_type": "code",
   "execution_count": 50,
   "metadata": {},
   "outputs": [
    {
     "data": {
      "text/plain": [
       "[(23, 45, 20), (25, 44, 39), (89, 40, 23)]"
      ]
     },
     "execution_count": 50,
     "metadata": {},
     "output_type": "execute_result"
    }
   ],
   "source": [
    "#Starting\n",
    "a = [(23, 45, 20), (25, 44, 39), (89, 40, 23)] \n",
    "m = 2\n",
    "sorted(a) "
   ]
  },
  {
   "cell_type": "code",
   "execution_count": 53,
   "metadata": {},
   "outputs": [],
   "source": [
    "def last(n): \n",
    "    return n[m]   "
   ]
  },
  {
   "cell_type": "code",
   "execution_count": 54,
   "metadata": {},
   "outputs": [
    {
     "name": "stdout",
     "output_type": "stream",
     "text": [
      "(89, 40, 23)\n"
     ]
    }
   ],
   "source": [
    "print(last(a)) "
   ]
  },
  {
   "cell_type": "code",
   "execution_count": 55,
   "metadata": {},
   "outputs": [],
   "source": [
    "def sort(t):\n",
    "    return sorted(t,key=last)"
   ]
  },
  {
   "cell_type": "code",
   "execution_count": 56,
   "metadata": {},
   "outputs": [
    {
     "name": "stdout",
     "output_type": "stream",
     "text": [
      "[(23, 45, 20), (89, 40, 23), (25, 44, 39)]\n"
     ]
    }
   ],
   "source": [
    "print(sort(a))\n",
    "#Ending"
   ]
  },
  {
   "cell_type": "code",
   "execution_count": 46,
   "metadata": {},
   "outputs": [
    {
     "name": "stdout",
     "output_type": "stream",
     "text": [
      "2 5\n",
      "1 2\n",
      "4 4\n",
      "2 3\n",
      "2 1\n"
     ]
    }
   ],
   "source": [
    "inputList = [ (2, 5), (1, 2), (4, 4), (2, 3), (2, 1) ]\n",
    "for i in inputList:\n",
    "    print(i[0],i[1])"
   ]
  },
  {
   "cell_type": "markdown",
   "metadata": {},
   "source": [
    "# Q22. Write the Python program to remove duplicates from a list?"
   ]
  },
  {
   "cell_type": "code",
   "execution_count": 36,
   "metadata": {},
   "outputs": [
    {
     "name": "stdout",
     "output_type": "stream",
     "text": [
      "['abc', 'xyz', 'wxw', '1331', 'dinesh', 'mad']\n"
     ]
    }
   ],
   "source": [
    "#Ans22\n",
    "str_21=['abc', 'xyz', 'wxw', '1331','abc','dinesh','mad']\n",
    "l_22=list()\n",
    "for i in str_21:\n",
    "    if i not in l_22:\n",
    "        l_22.append(i)\n",
    "print(l_22)        "
   ]
  },
  {
   "cell_type": "markdown",
   "metadata": {},
   "source": [
    "# Q23. Write the Python program to find the list of words that are longer than n from a given list of words?"
   ]
  },
  {
   "cell_type": "code",
   "execution_count": 37,
   "metadata": {},
   "outputs": [
    {
     "name": "stdout",
     "output_type": "stream",
     "text": [
      "['abc', 'xyz', 'wxw', '1331', 'dinesh', 'mad', 'abc']\n"
     ]
    }
   ],
   "source": [
    "#Ans23\n",
    "str_23=['abc', 'xyz', 'wxw', '1331','ab','dinesh','mad','abc']\n",
    "n_22=2\n",
    "l_22=list()\n",
    "for i in str_23:\n",
    "    if len(i)>n_22:\n",
    "        l_22.append(i)\n",
    "print(l_22)        \n",
    "        "
   ]
  },
  {
   "cell_type": "code",
   "execution_count": 38,
   "metadata": {},
   "outputs": [
    {
     "name": "stdout",
     "output_type": "stream",
     "text": [
      "['abc', 'xyz', 'wxw', '1331', 'dinesh', 'mad']\n"
     ]
    }
   ],
   "source": [
    "#Ans23\n",
    "str_23=['abc', 'xyz', 'wxw', '1331','ab','dinesh','mad','abc']\n",
    "n_22=2\n",
    "l_22=list()\n",
    "for i in str_23:\n",
    "    if len(i)>n_22 and i not in l_22:\n",
    "        l_22.append(i)\n",
    "print(l_22)  "
   ]
  },
  {
   "cell_type": "code",
   "execution_count": 39,
   "metadata": {},
   "outputs": [
    {
     "name": "stdout",
     "output_type": "stream",
     "text": [
      "['abcd', '34334', 'PYTHON']\n"
     ]
    }
   ],
   "source": [
    "#ans23\n",
    "def getLongerWords(list, maxLen) :\n",
    "    result = []\n",
    "    for word in list:\n",
    "        if len(word) > maxLen:\n",
    "            result.append(word)\n",
    "    return result\n",
    "\n",
    "list23 = ['ABC' , 'abcd', '34334', 'PYTHON' ]\n",
    "print(getLongerWords(list23, 3))"
   ]
  },
  {
   "cell_type": "markdown",
   "metadata": {},
   "source": [
    "# Q24. Write the Python program to print a specified list after removing the 0th, 4th, and 5th elements?\n",
    "Sample List - ['Red', 'Green', 'White', 'Black', 'Pink', 'Yellow'] \n",
    "Expected Output - ['Green', 'White', 'Black']"
   ]
  },
  {
   "cell_type": "code",
   "execution_count": 47,
   "metadata": {},
   "outputs": [
    {
     "name": "stdout",
     "output_type": "stream",
     "text": [
      "<built-in method index of str object at 0x000001B705BC7AB0>\n",
      "<built-in method index of str object at 0x000001B705BC7A78>\n",
      "<built-in method index of str object at 0x000001B705BD6C70>\n",
      "<built-in method index of str object at 0x000001B705BD67D8>\n",
      "<built-in method index of str object at 0x000001B706796A40>\n",
      "<built-in method index of str object at 0x000001B705BD6688>\n",
      "['Red', 'Green', 'White', 'Black', 'Pink', 'Yellow']\n"
     ]
    }
   ],
   "source": [
    "#ans24\n",
    "str_24=['Red', 'Green', 'White', 'Black', 'Pink', 'Yellow']\n",
    "in_24=[0,4,5]\n",
    "f_22=list()\n",
    "idx_24=0\n",
    "for i in str_24:\n",
    "    idx_24=i.index\n",
    "    print(idx_24)\n",
    "    if idx_24 not in in_24:\n",
    "        f_22.append(i)\n",
    "print(f_22)        "
   ]
  },
  {
   "cell_type": "code",
   "execution_count": 53,
   "metadata": {},
   "outputs": [
    {
     "name": "stdout",
     "output_type": "stream",
     "text": [
      "['Green', 'White', 'Black']\n"
     ]
    }
   ],
   "source": [
    "#ans24\n",
    "str_24=['Red', 'Green', 'White', 'Black', 'Pink', 'Yellow']\n",
    "in_24=[0,4,5]\n",
    "f_22=list()\n",
    "for idx, val in enumerate(str_24):\n",
    "    if idx not in in_24:\n",
    "        f_22.append(val)\n",
    "    #print(idx, val)\n",
    "print(f_22)    "
   ]
  },
  {
   "cell_type": "code",
   "execution_count": 1,
   "metadata": {},
   "outputs": [
    {
     "data": {
      "text/plain": [
       "['Green', 'White', 'Black']"
      ]
     },
     "execution_count": 1,
     "metadata": {},
     "output_type": "execute_result"
    }
   ],
   "source": [
    "list24 = ['Red', 'Green', 'White', 'Black', 'Pink', 'Yellow']\n",
    "[x for (i,x) in enumerate(list24) if i not in (0,4,5)]"
   ]
  },
  {
   "cell_type": "markdown",
   "metadata": {},
   "source": [
    "# Q25. Write the Python program to generate all permutations of a list in Python?"
   ]
  },
  {
   "cell_type": "code",
   "execution_count": 1,
   "metadata": {},
   "outputs": [
    {
     "name": "stdout",
     "output_type": "stream",
     "text": [
      "[(1, 2, 3), (1, 3, 2), (2, 1, 3), (2, 3, 1), (3, 1, 2), (3, 2, 1)]\n"
     ]
    }
   ],
   "source": [
    "#Ans25\n",
    "import itertools\n",
    "l_25=[1,2,3]\n",
    "print(list(itertools.permutations(l_25)))"
   ]
  },
  {
   "cell_type": "code",
   "execution_count": 2,
   "metadata": {},
   "outputs": [
    {
     "name": "stdout",
     "output_type": "stream",
     "text": [
      "[(1, 2, 3), (1, 3, 2), (2, 1, 3), (2, 3, 1), (3, 1, 2), (3, 2, 1)]\n"
     ]
    }
   ],
   "source": [
    "from itertools import permutations\n",
    "l_25=[1,2,3]\n",
    "result_25=list()\n",
    "for i in permutations(l_25):\n",
    "    result_25.append(i)\n",
    "print(result_25)    "
   ]
  },
  {
   "cell_type": "code",
   "execution_count": 3,
   "metadata": {},
   "outputs": [],
   "source": [
    "from itertools import permutations\n",
    "l_25=['abcd','abnm','acbd']\n",
    "result_25=list()\n",
    "for i in permutations(l_25):\n",
    "    result_25.append(i)"
   ]
  },
  {
   "cell_type": "code",
   "execution_count": 4,
   "metadata": {},
   "outputs": [
    {
     "name": "stdout",
     "output_type": "stream",
     "text": [
      "6\n",
      "{('abcd', 'abnm', 'acbd'): 1, ('abcd', 'acbd', 'abnm'): 1, ('abnm', 'abcd', 'acbd'): 1, ('abnm', 'acbd', 'abcd'): 1, ('acbd', 'abcd', 'abnm'): 1, ('acbd', 'abnm', 'abcd'): 1}\n"
     ]
    }
   ],
   "source": [
    "count_map={}\n",
    "count=0\n",
    "for i in result_25:\n",
    "    count_map[i]=count_map.get(i,0)+1\n",
    "    count=count+1\n",
    "print(count)\n",
    "print(count_map)"
   ]
  },
  {
   "cell_type": "markdown",
   "metadata": {},
   "source": [
    "# Q26. Write the Python program to convert a pair of values into a sorted unique array? \n",
    "Original List- [ (1, 2), (3, 4), (1, 2), (5, 6), (7, 8), (1, 2), (3, 4), (3, 4), (7, 8), (9, 10) ] \n",
    "Sorted Unique Data- [ 1, 2, 3, 4, 5, 6, 7, 8, 9, 10 ]"
   ]
  },
  {
   "cell_type": "code",
   "execution_count": 5,
   "metadata": {},
   "outputs": [
    {
     "name": "stdout",
     "output_type": "stream",
     "text": [
      "Sorted union Data {1, 2, 3, 4, 5, 6, 7, 8, 9, 10}\n"
     ]
    }
   ],
   "source": [
    "l_26= [ (1, 2), (3, 4), (1, 2), (5, 6), (7, 8), (1, 2), (3, 4), (3, 4), (7, 8), (9, 10) ] \n",
    "print(\"Sorted union Data\",set().union(*l_26))"
   ]
  },
  {
   "cell_type": "code",
   "execution_count": 6,
   "metadata": {},
   "outputs": [
    {
     "name": "stdout",
     "output_type": "stream",
     "text": [
      "Sorted union Data [1, 2, 3, 4, 5, 6, 7, 8, 9, 10]\n"
     ]
    }
   ],
   "source": [
    "print(\"Sorted union Data\",sorted(set().union(*l_26)))"
   ]
  },
  {
   "cell_type": "code",
   "execution_count": 7,
   "metadata": {},
   "outputs": [
    {
     "name": "stdout",
     "output_type": "stream",
     "text": [
      "[1, 2, 3, 4, 5, 6, 7, 8, 9, 10]\n"
     ]
    }
   ],
   "source": [
    "#Alternate\n",
    "l_26= [ (1, 2), (3, 4), (1, 2), (5, 6), (7, 8), (1, 2), (3, 4), (3, 4), (7, 8), (9, 10) ] \n",
    "l_op=list()\n",
    "final_result=list()\n",
    "for i in l_26:\n",
    "    l_op.append(i[0])\n",
    "    l_op.append(i[1])\n",
    "\n",
    "for z in l_op:\n",
    "    if z not in final_result:\n",
    "        final_result.append(z)\n",
    "print(final_result)    "
   ]
  },
  {
   "cell_type": "markdown",
   "metadata": {},
   "source": [
    "# Q27. Write the Python class to convert an integer to a roman numeral?"
   ]
  },
  {
   "cell_type": "code",
   "execution_count": 2,
   "metadata": {},
   "outputs": [
    {
     "data": {
      "text/plain": [
       "'CLX'"
      ]
     },
     "execution_count": 2,
     "metadata": {},
     "output_type": "execute_result"
    }
   ],
   "source": [
    "class IntToRoman:\n",
    "    def convert (self, n) :\n",
    "        mapping = [\n",
    "            (1000, 'M'),(900, 'CM'), (500,'D'),(400,'CD'),\n",
    "            (100, 'C'),(90,'XC'),(50,'L'),(40,'XL'),\n",
    "            (10,'X'),(9,'IX'),(5,'V'),(4,'IV'),(1,'I')\n",
    "        ]\n",
    "        romanValue = ''\n",
    "        i = 0\n",
    "        while n > 0 :\n",
    "            for _ in range(n // mapping[i][0]):\n",
    "                romanValue += mapping[i][1]\n",
    "                n = n- mapping[i][0]\n",
    "            i = i + 1\n",
    "        return romanValue\n",
    "\n",
    "IntToRoman().convert(160)"
   ]
  },
  {
   "cell_type": "markdown",
   "metadata": {},
   "source": [
    "# Q28 Write the Python class to convert a Roman numeral to an integer?"
   ]
  },
  {
   "cell_type": "code",
   "execution_count": 3,
   "metadata": {},
   "outputs": [
    {
     "name": "stdout",
     "output_type": "stream",
     "text": [
      "100\n",
      "100\n",
      "2000\n"
     ]
    }
   ],
   "source": [
    "class ConvertRomanToInt:\n",
    "    def execute(self, s):\n",
    "        mapping = {'I': 1, 'V': 5, 'X': 10, 'L': 50, 'C': 100, 'D': 500, 'M': 1000}\n",
    "        result = 0\n",
    "        for i in range(len(s)):\n",
    "            if i > 0 and mapping[s[i]] > mapping[s[i - 1]]:\n",
    "                result += mapping[s[i]] - 2 * mapping[s[i - 1]]\n",
    "            else:\n",
    "                result += mapping[s[i]]\n",
    "        return result\n",
    "\n",
    "convert = ConvertRomanToInt()\n",
    "print(convert.execute('C'))\n",
    "print(convert.execute('LL'))\n",
    "print(convert.execute('MCMLL'))"
   ]
  },
  {
   "cell_type": "markdown",
   "metadata": {},
   "source": [
    "# 29. Write the Python class to find the validity of the string of the parentheses, '(', ')', '{', '}', '[' and '] and the brackets must be closed in the correct order, example - \"()\" and \"()[]{}\" are valid but \"[)\", \"({[)]\" and \"{{{\" are invalid"
   ]
  },
  {
   "cell_type": "code",
   "execution_count": 4,
   "metadata": {},
   "outputs": [
    {
     "name": "stdout",
     "output_type": "stream",
     "text": [
      "True\n",
      "True\n",
      "False\n",
      "False\n",
      "False\n"
     ]
    }
   ],
   "source": [
    "class ValidateStr:\n",
    "   def isValid(self, str1):\n",
    "        stack, pchar = [], {\"(\": \")\", \"{\": \"}\", \"[\": \"]\"}\n",
    "        for parenthese in str1:\n",
    "            if parenthese in pchar:\n",
    "                stack.append(parenthese)\n",
    "            elif len(stack) == 0 or pchar[stack.pop()] != parenthese:\n",
    "                return False\n",
    "        return len(stack) == 0\n",
    "\n",
    "validate= ValidateStr()\n",
    "print(validate.isValid(\"()\"))\n",
    "print(validate.isValid(\"(){}[]\"))\n",
    "print(validate.isValid(\"(]\"))\n",
    "print(validate.isValid(\"({[)]\"))\n",
    "print(validate.isValid(\"{{{\"))"
   ]
  },
  {
   "cell_type": "markdown",
   "metadata": {},
   "source": [
    "# Write the Python class to get all possible unique subsets from a set of distinct integers?\n",
    "Input - [4, 5, 6] \n",
    "Output - [[], [6], [5], [5, 6], [4], [4, 6], [4, 5], [4, 5, 6]]"
   ]
  },
  {
   "cell_type": "code",
   "execution_count": 56,
   "metadata": {},
   "outputs": [
    {
     "name": "stdout",
     "output_type": "stream",
     "text": [
      "step1 [] [4, 5, 6]\n",
      "step1 [] [5, 6]\n",
      "step1 [] [6]\n",
      "step1 [] []\n",
      "cuu []\n",
      "step1 [6] []\n",
      "cuu [6]\n",
      "step1 [5] [6]\n",
      "step1 [5] []\n",
      "cuu [5]\n",
      "step1 [5, 6] []\n",
      "cuu [5, 6]\n",
      "step1 [4] [5, 6]\n",
      "step1 [4] [6]\n",
      "step1 [4] []\n",
      "cuu [4]\n",
      "step1 [4, 6] []\n",
      "cuu [4, 6]\n",
      "step1 [4, 5] [6]\n",
      "step1 [4, 5] []\n",
      "cuu [4, 5]\n",
      "step1 [4, 5, 6] []\n",
      "cuu [4, 5, 6]\n",
      "[[], [6], [5], [5, 6], [4], [4, 6], [4, 5], [4, 5, 6]]\n"
     ]
    }
   ],
   "source": [
    "class py_solution:\n",
    "    def sub_sets(self, sset):\n",
    "        return self.subsetsRecur([], sorted(sset))\n",
    "    \n",
    "    def subsetsRecur(self, current, sset):\n",
    "        print(\"step1\",current,sset)\n",
    "        if sset:\n",
    "            return self.subsetsRecur(current, sset[1:]) + self.subsetsRecur(current + [sset[0]], sset[1:])\n",
    "        print('cuu',current)\n",
    "        return [current]\n",
    "       \n",
    "\n",
    "print(py_solution().sub_sets([4,5,6]))"
   ]
  },
  {
   "cell_type": "code",
   "execution_count": null,
   "metadata": {},
   "outputs": [],
   "source": []
  },
  {
   "cell_type": "markdown",
   "metadata": {},
   "source": [
    "# Q31. Write the Python class to find a pair of elements (indices of the two numbers) from a given array whose sum equals the specific target number?\n",
    "Input: numbers- [10,20,10,40,50,60,70], target=50 \n",
    "    Output- 3, 4"
   ]
  },
  {
   "cell_type": "code",
   "execution_count": 8,
   "metadata": {},
   "outputs": [
    {
     "name": "stdout",
     "output_type": "stream",
     "text": [
      "(2, 3)\n"
     ]
    }
   ],
   "source": [
    "class FindPair:\n",
    "   def execute(self, nums, target):\n",
    "        lookup = {}\n",
    "        for i, num in enumerate(nums):\n",
    "            if target - num in lookup:\n",
    "                return (lookup[target - num], i )\n",
    "            lookup[num] = i\n",
    "\n",
    "findPair = FindPair()\n",
    "print(findPair.execute((10,20,10,40,50,60,70),50))"
   ]
  },
  {
   "cell_type": "code",
   "execution_count": 9,
   "metadata": {},
   "outputs": [
    {
     "name": "stdout",
     "output_type": "stream",
     "text": [
      "Result [3, 4]\n"
     ]
    }
   ],
   "source": [
    "l_31=[10,20,10,40,50,60,70]\n",
    "p_x=0\n",
    "p_y=0\n",
    "f_31=list()\n",
    "for x,y in enumerate(l_31):\n",
    "    f_31.append(x)\n",
    "    if p_y+y==50:\n",
    "        p_y=y\n",
    "        break\n",
    "print('Result',f_31[-2:])        \n",
    "    "
   ]
  },
  {
   "cell_type": "markdown",
   "metadata": {},
   "source": [
    "# Q32.Write the Python class to find the three elements that sum to zero from the set of n real numbers?\n",
    "Input array- [-25, -10, -7, -3, 2, 4, 8, 10]\n",
    "Output - [[-10, 2, 8], [-7, -3, 10]]"
   ]
  },
  {
   "cell_type": "code",
   "execution_count": 42,
   "metadata": {},
   "outputs": [
    {
     "name": "stdout",
     "output_type": "stream",
     "text": [
      "-10 2 8\n",
      "-7 -3 10\n"
     ]
    }
   ],
   "source": [
    "arr = [-25, -10, -7, -3, 2, 4, 8, 10]\n",
    "n = len(arr)\n",
    "found = True\n",
    "for i in range(0, n): \n",
    "    #print('iloop',i)\n",
    "    for j in range(i+1, n): \n",
    "        #print('jloop',j)\n",
    "          \n",
    "        for k in range(j+1, n): \n",
    "            #print('kloop',k)\n",
    "              \n",
    "            if (arr[i] + arr[j] + arr[k] == 0): \n",
    "                print(arr[i], arr[j], arr[k]) \n",
    "            found = True\n",
    "       \n",
    "    if (found == False): \n",
    "        print(\" not exist \")"
   ]
  },
  {
   "cell_type": "markdown",
   "metadata": {},
   "source": [
    "# Q33. Write the Python class to implement pow(x, n)?"
   ]
  },
  {
   "cell_type": "code",
   "execution_count": 10,
   "metadata": {},
   "outputs": [],
   "source": [
    "def power(x, y): \n",
    "  \n",
    "    if (y == 0): return 1\n",
    "    elif (int(y % 2) == 0): \n",
    "        return (power(x, int(y / 2)) *\n",
    "               power(x, int(y / 2))) \n",
    "    else: \n",
    "        return (x * power(x, int(y / 2)) *\n",
    "                   power(x, int(y / 2))) \n",
    "  \n",
    "    "
   ]
  },
  {
   "cell_type": "code",
   "execution_count": 11,
   "metadata": {},
   "outputs": [
    {
     "data": {
      "text/plain": [
       "8"
      ]
     },
     "execution_count": 11,
     "metadata": {},
     "output_type": "execute_result"
    }
   ],
   "source": [
    "power(2,3)"
   ]
  },
  {
   "cell_type": "code",
   "execution_count": 12,
   "metadata": {},
   "outputs": [
    {
     "data": {
      "text/plain": [
       "27"
      ]
     },
     "execution_count": 12,
     "metadata": {},
     "output_type": "execute_result"
    }
   ],
   "source": [
    "power(3,3)"
   ]
  },
  {
   "cell_type": "markdown",
   "metadata": {},
   "source": [
    "# Q34"
   ]
  },
  {
   "cell_type": "code",
   "execution_count": 18,
   "metadata": {},
   "outputs": [],
   "source": [
    "#Ans34\n",
    "class class_34:\n",
    "    def __init__self(self):\n",
    "        self.str_34=\"\"\n",
    "    def get_string(self):\n",
    "        self.str_34=input()\n",
    "    def print_string(self):\n",
    "        print(self.str_34.upper())"
   ]
  },
  {
   "cell_type": "code",
   "execution_count": 23,
   "metadata": {},
   "outputs": [
    {
     "name": "stdout",
     "output_type": "stream",
     "text": [
      "'gg'\n",
      "'GG'\n"
     ]
    }
   ],
   "source": [
    "class_34=class_34()\n",
    "class_34.get_string()\n",
    "class_34.print_string()"
   ]
  },
  {
   "cell_type": "markdown",
   "metadata": {},
   "source": [
    "# Q35. Write the Python class named Rectangle constructed by a length and width and the method which will compute the area of the rectangle?"
   ]
  },
  {
   "cell_type": "code",
   "execution_count": 30,
   "metadata": {},
   "outputs": [],
   "source": [
    "class rectangle:\n",
    "    def __init__(self,p_l,p_w):\n",
    "        self.length=p_l\n",
    "        self.width=p_w\n",
    "    def rec(self):\n",
    "        return self.length*self.width\n",
    "        "
   ]
  },
  {
   "cell_type": "raw",
   "metadata": {},
   "source": [
    "result_35=rectangle(10,20)"
   ]
  },
  {
   "cell_type": "code",
   "execution_count": 31,
   "metadata": {},
   "outputs": [
    {
     "data": {
      "text/plain": [
       "200"
      ]
     },
     "execution_count": 31,
     "metadata": {},
     "output_type": "execute_result"
    }
   ],
   "source": [
    "result_35.rec()"
   ]
  },
  {
   "cell_type": "code",
   "execution_count": 32,
   "metadata": {},
   "outputs": [
    {
     "data": {
      "text/plain": [
       "<bound method rectangle.rec of <__main__.rectangle object at 0x0000019C610C26A0>>"
      ]
     },
     "execution_count": 32,
     "metadata": {},
     "output_type": "execute_result"
    }
   ],
   "source": [
    "result_35.rec"
   ]
  },
  {
   "cell_type": "markdown",
   "metadata": {},
   "source": [
    "# Q36. Write the Python class named Circle constructed by the radius and two methods which will compute the area and perimeter of the circle?"
   ]
  },
  {
   "cell_type": "code",
   "execution_count": 21,
   "metadata": {},
   "outputs": [],
   "source": [
    "class circle:\n",
    "    def __init__(self,r):\n",
    "        self.radius=r\n",
    "    def area(self):\n",
    "        return self.radius**2*3.14\n",
    "    def perimeter(self):\n",
    "        return 2*self.radius*3.14"
   ]
  },
  {
   "cell_type": "code",
   "execution_count": 24,
   "metadata": {},
   "outputs": [
    {
     "data": {
      "text/plain": [
       "314.0"
      ]
     },
     "execution_count": 24,
     "metadata": {},
     "output_type": "execute_result"
    }
   ],
   "source": [
    "c=circle(10)\n",
    "c.area()"
   ]
  },
  {
   "cell_type": "code",
   "execution_count": 25,
   "metadata": {},
   "outputs": [
    {
     "data": {
      "text/plain": [
       "62.800000000000004"
      ]
     },
     "execution_count": 25,
     "metadata": {},
     "output_type": "execute_result"
    }
   ],
   "source": [
    "c.perimeter()"
   ]
  },
  {
   "cell_type": "markdown",
   "metadata": {},
   "source": [
    "# Q37. Write the Python program to get the class name of an instance in Python?"
   ]
  },
  {
   "cell_type": "code",
   "execution_count": 14,
   "metadata": {},
   "outputs": [
    {
     "name": "stdout",
     "output_type": "stream",
     "text": [
      "count\n"
     ]
    }
   ],
   "source": [
    "import itertools\n",
    "x=itertools.count(0)\n",
    "print(type(x).__name__)"
   ]
  },
  {
   "cell_type": "code",
   "execution_count": 15,
   "metadata": {},
   "outputs": [
    {
     "name": "stdout",
     "output_type": "stream",
     "text": [
      "cycle\n"
     ]
    }
   ],
   "source": [
    "y=itertools.cycle('abcd')\n",
    "print(type(y).__name__)"
   ]
  },
  {
   "cell_type": "code",
   "execution_count": 17,
   "metadata": {},
   "outputs": [],
   "source": [
    "class dinesh:\n",
    "    def d1():\n",
    "        pass\n",
    "    def f2():\n",
    "        pass"
   ]
  },
  {
   "cell_type": "code",
   "execution_count": 19,
   "metadata": {},
   "outputs": [
    {
     "name": "stdout",
     "output_type": "stream",
     "text": [
      "dinesh\n"
     ]
    }
   ],
   "source": [
    "d=dinesh()\n",
    "print(type(d).__name__)"
   ]
  },
  {
   "cell_type": "code",
   "execution_count": 20,
   "metadata": {},
   "outputs": [
    {
     "name": "stdout",
     "output_type": "stream",
     "text": [
      "type\n"
     ]
    }
   ],
   "source": [
    "#Just to know how it behaves\n",
    "d=dinesh\n",
    "print(type(d).__name__)"
   ]
  },
  {
   "cell_type": "markdown",
   "metadata": {},
   "source": [
    "# Q38. Write the Python program to count the number of students of individual class?\n",
    "Sample data- classes = ( ('V', 1), ('VI', 1), ('V', 2), ('VI', 2), ('VI', 3), ('VII', 1), )\n",
    "Expected Output- Counter({'VI': 3, 'V': 2, 'VII': 1})"
   ]
  },
  {
   "cell_type": "code",
   "execution_count": 30,
   "metadata": {},
   "outputs": [
    {
     "name": "stdout",
     "output_type": "stream",
     "text": [
      "Counter({'VI': 3, 'V': 2, 'VII': 1})\n"
     ]
    }
   ],
   "source": [
    "#ans38\n",
    "from collections import Counter\n",
    "classes= ( ('V', 1), ('VI', 1), ('V', 2), ('VI', 2), ('VI', 3), ('VII', 1),)\n",
    "class_wise=Counter(class_ for class_,tot_students in classes)\n",
    "print(class_wise)    "
   ]
  },
  {
   "cell_type": "code",
   "execution_count": 34,
   "metadata": {},
   "outputs": [
    {
     "name": "stdout",
     "output_type": "stream",
     "text": [
      "Counter({'VI': 3, 'V': 2, 'VII': 1})\n"
     ]
    }
   ],
   "source": [
    "class_wise=Counter(class_[0] for class_ in classes)\n",
    "print(class_wise) "
   ]
  },
  {
   "cell_type": "markdown",
   "metadata": {},
   "source": [
    "# Q39"
   ]
  },
  {
   "cell_type": "code",
   "execution_count": 1,
   "metadata": {},
   "outputs": [
    {
     "name": "stdout",
     "output_type": "stream",
     "text": [
      "Angola\n",
      "Andorra\n",
      "Algeria\n",
      "Afghanistan\n",
      "Albania\n",
      "dict_items([('Angola', 244), ('Andorra', 376), ('Algeria', 213), ('Afghanistan', 93), ('Albania', 355)])\n"
     ]
    }
   ],
   "source": [
    "#ANs39\n",
    "from collections import OrderedDict\n",
    "dict = {'Angola': 244, 'Andorra': 376, 'Algeria': 213, 'Afghanistan': 93, 'Albania': 355 }\n",
    "for i in dict:\n",
    "    print(i)\n",
    "print(dict.items())    "
   ]
  },
  {
   "cell_type": "code",
   "execution_count": 8,
   "metadata": {},
   "outputs": [
    {
     "name": "stdout",
     "output_type": "stream",
     "text": [
      "In REVERESE ORDER\n",
      "Albania 355\n",
      "Afghanistan 93\n",
      "Algeria 213\n",
      "Andorra 376\n",
      "Angola 244\n"
     ]
    }
   ],
   "source": [
    "print(\"In REVERESE ORDER\")\n",
    "\n",
    "\n",
    "for key in reversed(new_dict):\n",
    "    print(key,new_dict[key])\n"
   ]
  },
  {
   "cell_type": "code",
   "execution_count": 10,
   "metadata": {},
   "outputs": [
    {
     "data": {
      "text/plain": [
       "[('Andorra', 376),\n",
       " ('Albania', 355),\n",
       " ('Angola', 244),\n",
       " ('Algeria', 213),\n",
       " ('Afghanistan', 93)]"
      ]
     },
     "execution_count": 10,
     "metadata": {},
     "output_type": "execute_result"
    }
   ],
   "source": [
    "#ANs39 ALternate method to reverse based on max value\n",
    "dict = {'Angola': 244, 'Andorra': 376, 'Algeria': 213, 'Afghanistan': 93, 'Albania': 355 }\n",
    "from collections import Counter\n",
    "Counter(dict).most_common()"
   ]
  },
  {
   "cell_type": "code",
   "execution_count": 13,
   "metadata": {},
   "outputs": [
    {
     "data": {
      "text/plain": [
       "[('Afghanistan', 93),\n",
       " ('Algeria', 213),\n",
       " ('Angola', 244),\n",
       " ('Albania', 355),\n",
       " ('Andorra', 376)]"
      ]
     },
     "execution_count": 13,
     "metadata": {},
     "output_type": "execute_result"
    }
   ],
   "source": [
    "Counter(dict).most_common()[::-1]"
   ]
  },
  {
   "cell_type": "markdown",
   "metadata": {},
   "source": [
    "# Q40. Write the Python program to compare two unordered lists (not sets)?"
   ]
  },
  {
   "cell_type": "code",
   "execution_count": 13,
   "metadata": {},
   "outputs": [
    {
     "data": {
      "text/plain": [
       "{1, 2, 3, 4, 5}"
      ]
     },
     "execution_count": 13,
     "metadata": {},
     "output_type": "execute_result"
    }
   ],
   "source": [
    "a=[1,2,3,4,5]\n",
    "b=[1,2,3,4,5]\n",
    "set(a)&set(b)"
   ]
  },
  {
   "cell_type": "code",
   "execution_count": 15,
   "metadata": {},
   "outputs": [
    {
     "data": {
      "text/plain": [
       "{5}"
      ]
     },
     "execution_count": 15,
     "metadata": {},
     "output_type": "execute_result"
    }
   ],
   "source": [
    "a=[1,2,3,4,5]\n",
    "b=[7,32,15,7,5]\n",
    "set(a)&set(b)"
   ]
  },
  {
   "cell_type": "code",
   "execution_count": 16,
   "metadata": {},
   "outputs": [
    {
     "data": {
      "text/plain": [
       "[1, 2, 3, 4]"
      ]
     },
     "execution_count": 16,
     "metadata": {},
     "output_type": "execute_result"
    }
   ],
   "source": [
    "#Difference\n",
    "a=[1,2,3,4,5]\n",
    "b=[7,32,15,7,5]\n",
    "list(set(a)-set(b))"
   ]
  },
  {
   "cell_type": "code",
   "execution_count": 17,
   "metadata": {},
   "outputs": [
    {
     "name": "stdout",
     "output_type": "stream",
     "text": [
      "[5]\n"
     ]
    }
   ],
   "source": [
    "a=[1,2,3,4,5]\n",
    "b=[7,32,15,7,5]\n",
    "f=[m for m,n in zip(a,b) if m==n]\n",
    "print(f)"
   ]
  },
  {
   "cell_type": "markdown",
   "metadata": {},
   "source": [
    "# Q41. Write the Python program to get an array buffer information"
   ]
  },
  {
   "cell_type": "code",
   "execution_count": 2,
   "metadata": {},
   "outputs": [
    {
     "name": "stdout",
     "output_type": "stream",
     "text": [
      "array('i', [2, 4, 6, 8])\n"
     ]
    }
   ],
   "source": [
    "from array import *\n",
    "arr = array('i', [2, 4, 6, 8])\n",
    "\n",
    "print(arr)"
   ]
  },
  {
   "cell_type": "code",
   "execution_count": 3,
   "metadata": {},
   "outputs": [
    {
     "name": "stdout",
     "output_type": "stream",
     "text": [
      "<built-in method buffer_info of array.array object at 0x0000024A4CD00930>\n"
     ]
    }
   ],
   "source": [
    "print(arr.buffer_info)"
   ]
  },
  {
   "cell_type": "code",
   "execution_count": 4,
   "metadata": {},
   "outputs": [
    {
     "name": "stdout",
     "output_type": "stream",
     "text": [
      "(2518136635792, 4)\n"
     ]
    }
   ],
   "source": [
    "print(arr.buffer_info())"
   ]
  },
  {
   "cell_type": "markdown",
   "metadata": {},
   "source": [
    "# Q42. Write the Python program to convert an array to an array of machine values and return the bytes representation?"
   ]
  },
  {
   "cell_type": "code",
   "execution_count": 7,
   "metadata": {},
   "outputs": [
    {
     "name": "stdout",
     "output_type": "stream",
     "text": [
      "Original array:\n",
      "A1: array('i', [1, 2, 3, 4, 5, 6])\n",
      "Array of bytes: b'010000000200000003000000040000000500000006000000'\n"
     ]
    }
   ],
   "source": [
    "import array\n",
    "import binascii\n",
    "a = array.array('i', [1,2,3,4,5,6])\n",
    "print(\"Original array:\")\n",
    "print('A1:', a)\n",
    "bytes_array = a.tobytes()\n",
    "print('Array of bytes:', binascii.hexlify(bytes_array))"
   ]
  },
  {
   "cell_type": "markdown",
   "metadata": {},
   "source": [
    "# Q43. Write the Python program to read a string and interpreting the string as an array of machine values?"
   ]
  },
  {
   "cell_type": "code",
   "execution_count": 9,
   "metadata": {},
   "outputs": [
    {
     "name": "stdout",
     "output_type": "stream",
     "text": [
      "array1: array('i', [7, 8, 9, 10])\n",
      "Bytes: b'0700000008000000090000000a000000'\n",
      "array2: array('i', [7, 8, 9, 10])\n"
     ]
    }
   ],
   "source": [
    "from array import array\n",
    "import binascii\n",
    "\n",
    "'API Reference : https://docs.python.org/3.1/library/binascii.html'\n",
    "array1 = array('i', [7, 8, 9, 10])\n",
    "print('array1:', array1)\n",
    "\n",
    "as_bytes = array1.tobytes()\n",
    "# Return the hexadecimal representation of the binary data. \n",
    "# Every byte of data is converted into the corresponding 2-digit hex representation. \n",
    "# The resulting string is therefore twice as long as the length of data.\n",
    "print('Bytes:', binascii.hexlify(as_bytes))\n",
    "\n",
    "array2 = array('i')\n",
    "array2.frombytes(as_bytes)\n",
    "print('array2:', array2)"
   ]
  },
  {
   "cell_type": "markdown",
   "metadata": {},
   "source": [
    "# Q44. Write the Python program to push three items into the heap and return the smallest item from the heap. Also, return and pop the smallest item from the heap?"
   ]
  },
  {
   "cell_type": "code",
   "execution_count": 10,
   "metadata": {},
   "outputs": [],
   "source": [
    "import heapq\n",
    "heap = []"
   ]
  },
  {
   "cell_type": "code",
   "execution_count": 11,
   "metadata": {},
   "outputs": [],
   "source": [
    "heapq.heappush(heap, ('VI', 1))\n",
    "heapq.heappush(heap, ('VII', 3))\n",
    "heapq.heappush(heap, ('V', 2))"
   ]
  },
  {
   "cell_type": "code",
   "execution_count": 12,
   "metadata": {},
   "outputs": [
    {
     "name": "stdout",
     "output_type": "stream",
     "text": [
      "Items in the heap:\n",
      "('V', 2)\n",
      "('VII', 3)\n",
      "('VI', 1)\n"
     ]
    }
   ],
   "source": [
    "print(\"Items in the heap:\")\n",
    "for a in heap:\n",
    "    print(a)"
   ]
  },
  {
   "cell_type": "code",
   "execution_count": 13,
   "metadata": {},
   "outputs": [
    {
     "name": "stdout",
     "output_type": "stream",
     "text": [
      "The smallest item in the heap: ('V', 2)\n"
     ]
    }
   ],
   "source": [
    "print(\"The smallest item in the heap:\",heapq.heappop(heap))"
   ]
  },
  {
   "cell_type": "code",
   "execution_count": 14,
   "metadata": {},
   "outputs": [
    {
     "name": "stdout",
     "output_type": "stream",
     "text": [
      "Pop the smallest item in the heap:\n",
      "('VI', 1)\n",
      "('VII', 3)\n"
     ]
    }
   ],
   "source": [
    "print('Pop the smallest item in the heap:')\n",
    "for a in heap:\n",
    "    print(a)"
   ]
  },
  {
   "cell_type": "code",
   "execution_count": 15,
   "metadata": {},
   "outputs": [
    {
     "name": "stdout",
     "output_type": "stream",
     "text": [
      "('VI', 1)\n",
      "('VII', 3)\n"
     ]
    }
   ],
   "source": [
    "heapq.heappushpop(heap, ('V', 6))\n",
    "for a in heap:\n",
    "\tprint(a)"
   ]
  },
  {
   "cell_type": "markdown",
   "metadata": {},
   "source": [
    "# 45  Write the Python program to locate the left insertion point for a specified value in sorted order?"
   ]
  },
  {
   "cell_type": "code",
   "execution_count": 16,
   "metadata": {},
   "outputs": [
    {
     "name": "stdout",
     "output_type": "stream",
     "text": [
      "4\n",
      "2\n"
     ]
    }
   ],
   "source": [
    "'Ref : https://docs.python.org/2/library/bisect.html'\n",
    "\n",
    "import bisect\n",
    "def index(a, x):\n",
    "    i = bisect.bisect_left(a, x)\n",
    "    return i\n",
    "    \n",
    "a = [1,2,4,5]\n",
    "print(index(a, 6))\n",
    "print(index(a, 3))"
   ]
  },
  {
   "cell_type": "code",
   "execution_count": 19,
   "metadata": {},
   "outputs": [
    {
     "name": "stdout",
     "output_type": "stream",
     "text": [
      "2\n"
     ]
    }
   ],
   "source": [
    "import bisect\n",
    "i = bisect.bisect_left([2,5,8,9], 8)\n",
    "print(i)"
   ]
  },
  {
   "cell_type": "code",
   "execution_count": 20,
   "metadata": {},
   "outputs": [
    {
     "name": "stdout",
     "output_type": "stream",
     "text": [
      "1\n"
     ]
    }
   ],
   "source": [
    "i = bisect.bisect_left([2,5,8,9], 5)\n",
    "print(i)"
   ]
  },
  {
   "cell_type": "markdown",
   "metadata": {},
   "source": [
    "# Q46 Write the Python program to create the FIFO queue?"
   ]
  },
  {
   "cell_type": "code",
   "execution_count": 36,
   "metadata": {},
   "outputs": [],
   "source": [
    "#Ref https://www.geeksforgeeks.org/stack-queue-python-using-module-queue/\n",
    "#Method1\n",
    "from collections import deque\n",
    "queue=deque()\n",
    "for i in range(0,4):\n",
    "    queue.append(i)"
   ]
  },
  {
   "cell_type": "code",
   "execution_count": 38,
   "metadata": {},
   "outputs": [
    {
     "name": "stdout",
     "output_type": "stream",
     "text": [
      "deque([0, 1, 2, 3])\n"
     ]
    }
   ],
   "source": [
    "print(queue)"
   ]
  },
  {
   "cell_type": "code",
   "execution_count": 45,
   "metadata": {},
   "outputs": [
    {
     "name": "stdout",
     "output_type": "stream",
     "text": [
      "deque([])\n"
     ]
    }
   ],
   "source": [
    "#Method2\n",
    "import queue\n",
    "q=queue.Queue()\n",
    "print(q.queue)"
   ]
  },
  {
   "cell_type": "code",
   "execution_count": 46,
   "metadata": {},
   "outputs": [
    {
     "name": "stdout",
     "output_type": "stream",
     "text": [
      "deque([0, 1, 2, 3])\n"
     ]
    }
   ],
   "source": [
    "for i in range(0,4):\n",
    "    q.put(i)\n",
    "print(q.queue)    "
   ]
  },
  {
   "cell_type": "code",
   "execution_count": 48,
   "metadata": {},
   "outputs": [],
   "source": [
    "#LIFO\n",
    "import queue\n",
    "q=queue.LifoQueue()\n",
    "for i in range(0,4):\n",
    "    q.put(i)\n"
   ]
  },
  {
   "cell_type": "code",
   "execution_count": 52,
   "metadata": {},
   "outputs": [
    {
     "name": "stdout",
     "output_type": "stream",
     "text": [
      "3\n",
      "2\n",
      "1\n",
      "0\n"
     ]
    }
   ],
   "source": [
    "while not q.empty():print(q.get()) "
   ]
  },
  {
   "cell_type": "code",
   "execution_count": null,
   "metadata": {},
   "outputs": [],
   "source": []
  },
  {
   "cell_type": "markdown",
   "metadata": {},
   "source": [
    "# Q47Note: The harmonic sum is the sum of reciprocals of the positive Integers?"
   ]
  },
  {
   "cell_type": "code",
   "execution_count": 34,
   "metadata": {},
   "outputs": [],
   "source": [
    "def harmonic(n):\n",
    "    i=1\n",
    "    s=0\n",
    "    for i in range(i,n+1):\n",
    "        s=s+1/i\n",
    "    return s    "
   ]
  },
  {
   "cell_type": "code",
   "execution_count": 35,
   "metadata": {},
   "outputs": [
    {
     "data": {
      "text/plain": [
       "2.283333333333333"
      ]
     },
     "execution_count": 35,
     "metadata": {},
     "output_type": "execute_result"
    }
   ],
   "source": [
    "harmonic(5)"
   ]
  }
 ],
 "metadata": {
  "kernelspec": {
   "display_name": "Python 3",
   "language": "python",
   "name": "python3"
  },
  "language_info": {
   "codemirror_mode": {
    "name": "ipython",
    "version": 3
   },
   "file_extension": ".py",
   "mimetype": "text/x-python",
   "name": "python",
   "nbconvert_exporter": "python",
   "pygments_lexer": "ipython3",
   "version": "3.7.3"
  }
 },
 "nbformat": 4,
 "nbformat_minor": 2
}
