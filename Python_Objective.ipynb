{
 "cells": [
  {
   "cell_type": "markdown",
   "metadata": {},
   "source": [
    "# 1)How iter() works for custom objects\n",
    "Ans:Bypassing the given list to the iter() function "
   ]
  },
  {
   "cell_type": "code",
   "execution_count": 1,
   "metadata": {},
   "outputs": [
    {
     "ename": "SyntaxError",
     "evalue": "invalid syntax (<ipython-input-1-dc6b5612236d>, line 1)",
     "output_type": "error",
     "traceback": [
      "\u001b[1;36m  File \u001b[1;32m\"<ipython-input-1-dc6b5612236d>\"\u001b[1;36m, line \u001b[1;32m1\u001b[0m\n\u001b[1;33m    Iter() objects works for list,set,tuples etc\u001b[0m\n\u001b[1;37m                 ^\u001b[0m\n\u001b[1;31mSyntaxError\u001b[0m\u001b[1;31m:\u001b[0m invalid syntax\n"
     ]
    }
   ],
   "source": [
    "Iter() objects works for list,set,tuples etc\n",
    "\n",
    "The iter() method takes two parameters:\n",
    "object - object whose iterator has to be created (can be sets, tuples, etc.)\n",
    "sentinel (Optional) - special value that is used to represent the end of a sequence"
   ]
  },
  {
   "cell_type": "code",
   "execution_count": null,
   "metadata": {},
   "outputs": [],
   "source": [
    "# Refers this URL\n",
    "#https://github.com/sateeshfrnd/DataAnalysisWithPython/blob/master/Assignments/Python-Objective%20Questions.txt"
   ]
  },
  {
   "cell_type": "code",
   "execution_count": 2,
   "metadata": {},
   "outputs": [],
   "source": [
    "vowels = ['a', 'e', 'i', 'o', 'u']\n",
    "vowelsIter = iter(vowels)"
   ]
  },
  {
   "cell_type": "code",
   "execution_count": 3,
   "metadata": {},
   "outputs": [
    {
     "name": "stdout",
     "output_type": "stream",
     "text": [
      "<list_iterator object at 0x000001E91A0D5780>\n"
     ]
    }
   ],
   "source": [
    "print(vowelsIter)"
   ]
  },
  {
   "cell_type": "code",
   "execution_count": 4,
   "metadata": {},
   "outputs": [
    {
     "name": "stdout",
     "output_type": "stream",
     "text": [
      "a\n"
     ]
    }
   ],
   "source": [
    "print(next(vowelsIter))"
   ]
  },
  {
   "cell_type": "code",
   "execution_count": 5,
   "metadata": {},
   "outputs": [
    {
     "name": "stdout",
     "output_type": "stream",
     "text": [
      "e\n"
     ]
    }
   ],
   "source": [
    "print(next(vowelsIter))"
   ]
  },
  {
   "cell_type": "code",
   "execution_count": 6,
   "metadata": {},
   "outputs": [],
   "source": [
    "#Method1\n",
    "class Printnumber:\n",
    "    def __init__(self,max):\n",
    "        self.max=max\n",
    "        print('MAX :',max)\n",
    "    def __iter__(self):\n",
    "        self.num=0\n",
    "        print('self',self.num)\n",
    "        return self\n",
    "    def __next__(self):\n",
    "        if(self.num >= self.max):\n",
    "            raise StopIteration\n",
    "        self.num += 1\n",
    "        return self.num"
   ]
  },
  {
   "cell_type": "code",
   "execution_count": 7,
   "metadata": {},
   "outputs": [
    {
     "name": "stdout",
     "output_type": "stream",
     "text": [
      "MAX : 3\n"
     ]
    }
   ],
   "source": [
    "printNum = Printnumber(3)"
   ]
  },
  {
   "cell_type": "code",
   "execution_count": 8,
   "metadata": {},
   "outputs": [
    {
     "name": "stdout",
     "output_type": "stream",
     "text": [
      "self 0\n"
     ]
    }
   ],
   "source": [
    "printNumIter = iter(printNum)"
   ]
  },
  {
   "cell_type": "code",
   "execution_count": 9,
   "metadata": {},
   "outputs": [
    {
     "name": "stdout",
     "output_type": "stream",
     "text": [
      "1\n"
     ]
    }
   ],
   "source": [
    "print(next(printNumIter))"
   ]
  },
  {
   "cell_type": "code",
   "execution_count": 10,
   "metadata": {},
   "outputs": [
    {
     "name": "stdout",
     "output_type": "stream",
     "text": [
      "2\n"
     ]
    }
   ],
   "source": [
    "print(next(printNumIter))"
   ]
  },
  {
   "cell_type": "code",
   "execution_count": 11,
   "metadata": {},
   "outputs": [
    {
     "name": "stdout",
     "output_type": "stream",
     "text": [
      "3\n"
     ]
    }
   ],
   "source": [
    "print(next(printNumIter))"
   ]
  },
  {
   "cell_type": "code",
   "execution_count": 12,
   "metadata": {},
   "outputs": [
    {
     "ename": "StopIteration",
     "evalue": "",
     "output_type": "error",
     "traceback": [
      "\u001b[1;31m---------------------------------------------------------------------------\u001b[0m",
      "\u001b[1;31mStopIteration\u001b[0m                             Traceback (most recent call last)",
      "\u001b[1;32m<ipython-input-12-b68e203f8bb7>\u001b[0m in \u001b[0;36m<module>\u001b[1;34m\u001b[0m\n\u001b[1;32m----> 1\u001b[1;33m \u001b[0mprint\u001b[0m\u001b[1;33m(\u001b[0m\u001b[0mnext\u001b[0m\u001b[1;33m(\u001b[0m\u001b[0mprintNumIter\u001b[0m\u001b[1;33m)\u001b[0m\u001b[1;33m)\u001b[0m\u001b[1;33m\u001b[0m\u001b[1;33m\u001b[0m\u001b[0m\n\u001b[0m",
      "\u001b[1;32m<ipython-input-6-5b33e5e06094>\u001b[0m in \u001b[0;36m__next__\u001b[1;34m(self)\u001b[0m\n\u001b[0;32m     10\u001b[0m     \u001b[1;32mdef\u001b[0m \u001b[0m__next__\u001b[0m\u001b[1;33m(\u001b[0m\u001b[0mself\u001b[0m\u001b[1;33m)\u001b[0m\u001b[1;33m:\u001b[0m\u001b[1;33m\u001b[0m\u001b[1;33m\u001b[0m\u001b[0m\n\u001b[0;32m     11\u001b[0m         \u001b[1;32mif\u001b[0m\u001b[1;33m(\u001b[0m\u001b[0mself\u001b[0m\u001b[1;33m.\u001b[0m\u001b[0mnum\u001b[0m \u001b[1;33m>=\u001b[0m \u001b[0mself\u001b[0m\u001b[1;33m.\u001b[0m\u001b[0mmax\u001b[0m\u001b[1;33m)\u001b[0m\u001b[1;33m:\u001b[0m\u001b[1;33m\u001b[0m\u001b[1;33m\u001b[0m\u001b[0m\n\u001b[1;32m---> 12\u001b[1;33m             \u001b[1;32mraise\u001b[0m \u001b[0mStopIteration\u001b[0m\u001b[1;33m\u001b[0m\u001b[1;33m\u001b[0m\u001b[0m\n\u001b[0m\u001b[0;32m     13\u001b[0m         \u001b[0mself\u001b[0m\u001b[1;33m.\u001b[0m\u001b[0mnum\u001b[0m \u001b[1;33m+=\u001b[0m \u001b[1;36m1\u001b[0m\u001b[1;33m\u001b[0m\u001b[1;33m\u001b[0m\u001b[0m\n\u001b[0;32m     14\u001b[0m         \u001b[1;32mreturn\u001b[0m \u001b[0mself\u001b[0m\u001b[1;33m.\u001b[0m\u001b[0mnum\u001b[0m\u001b[1;33m\u001b[0m\u001b[1;33m\u001b[0m\u001b[0m\n",
      "\u001b[1;31mStopIteration\u001b[0m: "
     ]
    }
   ],
   "source": [
    "print(next(printNumIter))"
   ]
  },
  {
   "cell_type": "code",
   "execution_count": null,
   "metadata": {},
   "outputs": [],
   "source": [
    "#Method2\n",
    "class Printnumber:\n",
    "    def __init__(self,max):\n",
    "        self.max=max\n",
    "        print('MAX :',max)\n",
    "        self.num=0\n",
    "\n",
    "    def __next__(self):\n",
    "        if(self.num >= self.max):\n",
    "            raise StopIteration\n",
    "        self.num += 1\n",
    "        return self.num"
   ]
  },
  {
   "cell_type": "code",
   "execution_count": null,
   "metadata": {},
   "outputs": [],
   "source": [
    "printNum = Printnumber(3)"
   ]
  },
  {
   "cell_type": "code",
   "execution_count": null,
   "metadata": {},
   "outputs": [],
   "source": [
    "print(next(printNum))"
   ]
  },
  {
   "cell_type": "code",
   "execution_count": null,
   "metadata": {},
   "outputs": [],
   "source": [
    "print(next(printNum))"
   ]
  },
  {
   "cell_type": "code",
   "execution_count": null,
   "metadata": {},
   "outputs": [],
   "source": [
    "print(next(printNum))"
   ]
  },
  {
   "cell_type": "code",
   "execution_count": null,
   "metadata": {},
   "outputs": [],
   "source": [
    "print(next(printNum))"
   ]
  },
  {
   "cell_type": "markdown",
   "metadata": {},
   "source": [
    "# 2 If the function contains at least of one “yield” statement, then it  \n",
    " \tbecomes ______ANs:Generator"
   ]
  },
  {
   "cell_type": "code",
   "execution_count": null,
   "metadata": {},
   "outputs": [],
   "source": [
    "Yield is a keyword that is used like return, except the function will return a generator."
   ]
  },
  {
   "cell_type": "code",
   "execution_count": null,
   "metadata": {},
   "outputs": [],
   "source": [
    "#Iterables\n",
    "mylist = [x*x for x in range(3)]"
   ]
  },
  {
   "cell_type": "code",
   "execution_count": null,
   "metadata": {},
   "outputs": [],
   "source": [
    "print(mylist)"
   ]
  },
  {
   "cell_type": "code",
   "execution_count": null,
   "metadata": {},
   "outputs": [],
   "source": [
    "#Generators\n",
    "# it do not store all the values in memory, they generate the values on the fly\n",
    "mygenerator=(x*x for x in range(3))"
   ]
  },
  {
   "cell_type": "code",
   "execution_count": null,
   "metadata": {},
   "outputs": [],
   "source": [
    "print(mygenerator)"
   ]
  },
  {
   "cell_type": "code",
   "execution_count": null,
   "metadata": {},
   "outputs": [],
   "source": [
    "def creategen():\n",
    "    for i in mylist:\n",
    "        yield i*i\n",
    "        \n",
    "    "
   ]
  },
  {
   "cell_type": "code",
   "execution_count": null,
   "metadata": {},
   "outputs": [],
   "source": [
    "mygenerator =creategen()  # create a generator"
   ]
  },
  {
   "cell_type": "code",
   "execution_count": null,
   "metadata": {},
   "outputs": [],
   "source": [
    "print(mygenerator) # mygenerator is an object!"
   ]
  },
  {
   "cell_type": "code",
   "execution_count": null,
   "metadata": {},
   "outputs": [],
   "source": [
    "for i in mygenerator:  print(i)"
   ]
  },
  {
   "cell_type": "markdown",
   "metadata": {},
   "source": [
    "# Q3. What is the output of the code? \n",
    " \n",
    "mylist =  [1, 3, 6, 10]\n",
    "\t \n",
    "\ta = (x**2 for x in mylist)\t \n",
    "\tprint(next(a), next(a))\t \t\n",
    "  \n",
    "a)\t1 3 \n",
    "b)\t1 9 \n",
    "c)\t1 9 36 100 \n",
    "d)\t1 \n",
    "Ans: B"
   ]
  },
  {
   "cell_type": "code",
   "execution_count": null,
   "metadata": {},
   "outputs": [],
   "source": [
    "mylist =  [1, 3, 6, 10]\n",
    "a = (x**2 for x in mylist)\n",
    "print(next(a), next(a))"
   ]
  },
  {
   "cell_type": "markdown",
   "metadata": {},
   "source": [
    "# Q4. What are the criteria that must be met to create closure in Python? \n",
    "a)\tThe program Must have the function inside the function. \n",
    "b)\tThe nested function must refer to the value defined in the enclosing function. \n",
    "c)\tThe enclosing function must return the nested \n",
    "d)\tAll of the above. \n",
    " \n",
    "Ans: D \n",
    "\n"
   ]
  },
  {
   "cell_type": "markdown",
   "metadata": {},
   "source": [
    "# Q5. What is the output of the code? \n",
    " \tdef Foo(n):\n",
    " \n",
    "\t    def multiplier(x):\t \n",
    "\t        return x * n\t \t\n",
    "\t    return multiplier\t \t\n",
    "\ta = Foo(5)\n",
    "\tb = Foo(5)\n",
    " \t\t\n",
    "\tprint(a(b(2)))\t \t\t\n",
    "a)\t25. \n",
    "b)\t100 \n",
    "c)\t10 \n",
    "d)\t50\n",
    "\n",
    "Ans: D"
   ]
  },
  {
   "cell_type": "code",
   "execution_count": null,
   "metadata": {},
   "outputs": [],
   "source": [
    "def Foo(n):\n",
    "    def multiplier(x):\n",
    "        return x * n\n",
    "    return multiplier"
   ]
  },
  {
   "cell_type": "code",
   "execution_count": null,
   "metadata": {},
   "outputs": [],
   "source": [
    "a=Foo(5)\n",
    "b=Foo(5)\n",
    "print(a(b(2)))"
   ]
  },
  {
   "cell_type": "markdown",
   "metadata": {},
   "source": [
    "# Q6. What is the output of the code? \n",
    " \n",
    "def make_pretty(func):\n",
    "    def inner():\n",
    "        print(\"I got decorated\")\n",
    "        func()\n",
    "\t    return inner\n",
    " \n",
    "\tdef ordinary():\t\n",
    "\t\tprint(\"I am ordinary\") \t\n",
    "    \t\t\n",
    "\tpretty = make_pretty(ordinary)\n",
    "\tpretty()\t \t\t \n",
    " \n",
    "a)\tI got decorated \n",
    "b)\tI am pretty \n",
    "c)\tI got decorated     I am ordinary \n",
    "d)\tI am ordinary \n",
    "    I got decorated \n",
    "\n",
    "Ans: C"
   ]
  },
  {
   "cell_type": "code",
   "execution_count": null,
   "metadata": {},
   "outputs": [],
   "source": [
    "def make_pretty(func): \n",
    "    def inner(): \n",
    "        print(\"I got decorated\") \n",
    "        func() \n",
    "    return inner\n",
    "    \n",
    "def ordinary():    \n",
    "        print(\"I am ordinary\")     \n",
    "\n"
   ]
  },
  {
   "cell_type": "code",
   "execution_count": null,
   "metadata": {},
   "outputs": [],
   "source": [
    "pretty=make_pretty(ordinary)"
   ]
  },
  {
   "cell_type": "code",
   "execution_count": null,
   "metadata": {},
   "outputs": [],
   "source": [
    "pretty()"
   ]
  },
  {
   "cell_type": "code",
   "execution_count": null,
   "metadata": {},
   "outputs": [],
   "source": [
    "#Other way Tried\n",
    "def make_prett(func): \n",
    "   \n",
    "    \n",
    "    def inner(): \n",
    "        print(\"I got decorated\")\n",
    "        func()\n",
    "    return inner\n",
    "def tt():\n",
    "    print('I am ordinary')\n",
    " "
   ]
  },
  {
   "cell_type": "code",
   "execution_count": null,
   "metadata": {},
   "outputs": [],
   "source": [
    "pretty=make_prett(tt)"
   ]
  },
  {
   "cell_type": "code",
   "execution_count": null,
   "metadata": {},
   "outputs": [],
   "source": [
    "pretty()"
   ]
  },
  {
   "cell_type": "code",
   "execution_count": null,
   "metadata": {},
   "outputs": [],
   "source": [
    "#Other FUnc not called\n",
    "def make_pretty(func):\n",
    "    def inner():\n",
    "       print(\"I got decorated\")\n",
    "    return inner\n",
    "\n",
    "def ordinary():\n",
    "    print(\"I am ordinary\")\n",
    "\n",
    "pretty = make_pretty(ordinary)\n",
    "pretty()"
   ]
  },
  {
   "cell_type": "markdown",
   "metadata": {},
   "source": [
    "# Q7: What is the more pythonic way to use getters and setters? \n",
    "a)\tDecorators \n",
    "b)\tGenerators. \n",
    "c)\tIterators \n",
    "d)\t@property \n",
    "\n",
    "Ans: D "
   ]
  },
  {
   "cell_type": "markdown",
   "metadata": {},
   "source": [
    "# Q8. In Python, there is a built-in function property() that returns a property object. The property object has which of the methods? \n",
    "a)\tgetter() and setter() \n",
    "b)\tgetter(), setter() and delete() \n",
    "c)\tgetter() and delete() \n",
    "d)\tsetter() and delete() \n",
    "\n",
    "Ans: B "
   ]
  },
  {
   "cell_type": "code",
   "execution_count": null,
   "metadata": {},
   "outputs": [],
   "source": [
    "Getters:- These are the methods used in Object-Oriented Programming (OOPS) which helps to access the private attributes from a class.\n",
    "Setters:- These are the methods used in OOPS feature which helps to set the value to private attributes in a class."
   ]
  },
  {
   "cell_type": "code",
   "execution_count": null,
   "metadata": {},
   "outputs": [],
   "source": [
    "class Sampleclass:\n",
    "    def __init__(self,a):\n",
    "        ## private varibale or property in Python\n",
    "        self.__a=a\n",
    "        \n",
    "    ## getter method to get the properties using an object\n",
    "    def get_a(self):\n",
    "        return self.__a\n",
    "    \n",
    "    ## setter method to change the value 'a' using an object\n",
    "    def set_a(self, a):\n",
    "        self.__a = a\n",
    "        \n",
    "        \n",
    "#  __init__:- It is used to initialize the attributes or properties of a class.\n",
    "#__a:- It is a private attribute.\n",
    "#get_a:- It is used to get the values of private attribute a.\n",
    "#set_a:- It is used to set the value of a using an object of a class      "
   ]
  },
  {
   "cell_type": "code",
   "execution_count": null,
   "metadata": {},
   "outputs": [],
   "source": [
    "## creating an object\n",
    "obj = Sampleclass(10)\n",
    "\n",
    "## getting the value of 'a' using get_a() method\n",
    "print(obj.get_a())\n",
    "\n",
    "## setting a new value to the 'a' using set_a() method\n",
    "obj.set_a(45)\n",
    "\n",
    "print(obj.get_a())"
   ]
  },
  {
   "cell_type": "code",
   "execution_count": null,
   "metadata": {},
   "outputs": [],
   "source": [
    "class Sampleclass:\n",
    "    __a=10000\n",
    "    def __init__(self,a):\n",
    "       \n",
    "        self.__a=a\n",
    "        \n",
    "    ## getter method to get the properties using an object\n",
    "    def get_a(self):\n",
    "        return self.__a\n",
    "    \n",
    "    ## setter method to change the value 'a' using an object\n",
    "    def set_a(self, a):\n",
    "        self.__a = a\n",
    "        \n",
    "    def dele(self,a):\n",
    "        del self.__a"
   ]
  },
  {
   "cell_type": "code",
   "execution_count": null,
   "metadata": {},
   "outputs": [],
   "source": [
    "obj = Sampleclass(1)\n",
    "\n",
    "\n",
    "print('Getter',obj.get_a())\n",
    "\n",
    "x=5\n",
    "\n",
    "print('Setter call',obj.set_a(x))\n",
    "\n",
    "print('After setter to ',obj.get_a())\n",
    "\n",
    "print('Delete call ',obj.dele(x))\n",
    "\n",
    "print('Post delete it takes global variable value ',obj.get_a())\n"
   ]
  },
  {
   "cell_type": "markdown",
   "metadata": {},
   "source": [
    "# Q9. Which of the following statement is true? \n",
    "a)\tYou cannot chain multiple decorators in Python. \n",
    "b)\tDecorators don’t work with functions that take parameters. \n",
    "c)\tThe @ symbol doesn’t have any use while using decorators. \n",
    "d)\tNone of the above \n",
    "\n",
    "Ans: D "
   ]
  },
  {
   "cell_type": "markdown",
   "metadata": {},
   "source": [
    "# Q10. For the following codes, which of the following statements is true? \n",
    "\tdef printHello():\t  \n",
    "\t    print(\"Hello\")\t\n",
    "\ta = printHello()\t \t\n",
    " \n",
    "a)\tPrint Hello() is a function, and a is a variable. None of them are objects. \n",
    "b)\tBoth printHello() and the reference to the same object. \n",
    "c)\tPrint Hello() and the reference to different objects. \n",
    "d)\tSyntax error! You cannot assign function  Q11. What is the output of the program? \n",
    " \n",
    "Ans: A"
   ]
  },
  {
   "cell_type": "markdown",
   "metadata": {},
   "source": [
    "# What is the output of the program? \n",
    "\tdef outerFunction(): \n",
    "\t\tglobal a \n",
    "\t\ta = 20 \n",
    "\t\tdef innerFunction(): \n",
    "\t\t\tglobal a \n",
    "\t\t\ta = 30 \n",
    "\t\t\tprint('a =', a) \n",
    "\ta = 10 \n",
    "\touterFunction() \n",
    "\tprint('a =', a)\n",
    "a) a = 10 a = 30\n",
    "b) a = 10\n",
    "c) a = 2\n",
    "d) a = 30\n",
    "\n",
    "Ans: A = 20"
   ]
  },
  {
   "cell_type": "code",
   "execution_count": null,
   "metadata": {},
   "outputs": [],
   "source": [
    "def outerFunction():\n",
    "    global a\n",
    "    a=20\n",
    "    def innerFunction():\n",
    "        global a\n",
    "        a=30\n",
    "        print('Inner',a)\n",
    "a=10"
   ]
  },
  {
   "cell_type": "code",
   "execution_count": null,
   "metadata": {},
   "outputs": [],
   "source": [
    "outerFunction() \n",
    "print('a =', a)"
   ]
  },
  {
   "cell_type": "code",
   "execution_count": null,
   "metadata": {},
   "outputs": [],
   "source": [
    "#Other way\n",
    "def outerFunction(func):\n",
    "    global a\n",
    "    a=20\n",
    "    return a\n",
    "    func()\n",
    "    return outerFunction\n",
    "def innerFunction():\n",
    "    global a\n",
    "    a=30\n",
    "    print('Inner',a)\n",
    "a=10"
   ]
  },
  {
   "cell_type": "code",
   "execution_count": null,
   "metadata": {},
   "outputs": [],
   "source": [
    "outerFunction(innerFunction) "
   ]
  },
  {
   "cell_type": "code",
   "execution_count": null,
   "metadata": {},
   "outputs": [],
   "source": [
    "outerFunction(innerFunction()) "
   ]
  },
  {
   "cell_type": "markdown",
   "metadata": {},
   "source": [
    "# 12. Which of the following statements is true? \n",
    "a)\tA class is a blueprint for the object. \n",
    "b)\tYou can only make the single object from the given class \n",
    "c)\tBoth statements are true. \n",
    "d)\tNeither statement is true. \n",
    "\n",
    "Ans: C "
   ]
  },
  {
   "cell_type": "markdown",
   "metadata": {},
   "source": [
    "# 13 what is the output of the code? \n",
    "class Foo:\n",
    "\t  def printLine(self, line='Python'):\t \n",
    "\t    print(line)\n",
    "   \t\t\n",
    "\to1 = Foo()\n",
    "\to1.printLine('Java')\t \t\n",
    "a)\tPython \n",
    "b)\tLine \n",
    "c)\tJava \n",
    "d)\tJava \n",
    "Python \n",
    "\n",
    "Ans: C"
   ]
  },
  {
   "cell_type": "code",
   "execution_count": null,
   "metadata": {},
   "outputs": [],
   "source": [
    "class Foo:\n",
    "    def printLine(self, line='Python'):\n",
    "        print(line)\n",
    "o1 = Foo()\n",
    "o1.printLine('Java')"
   ]
  },
  {
   "cell_type": "markdown",
   "metadata": {},
   "source": [
    "# Q14. What is the function of the __init__() function in Python? \n",
    " \n",
    "a)\tInitialises the class for use. \n",
    "b)\tThis function is called, when the new object is instantiated \n",
    "c)\tInitialises all the data attributes to zero when called \n",
    "d)\tNone of the above. \n",
    "Ans: B"
   ]
  },
  {
   "cell_type": "code",
   "execution_count": null,
   "metadata": {},
   "outputs": [],
   "source": [
    "Q15. What is the output of the code? \n",
    " \n",
    "class Point:\n",
    "\tdef __init__(self, x = 0, y = 0):\n",
    "\t\tself.x = x+1\n",
    "\t\tself.y = y+1\n",
    "\t\t       \t\t\n",
    "\tp1 = Point()\t \t\t\n",
    "\tprint(p1.x, p1.y)\t\t\n",
    " \n",
    "a)\t0 0 \n",
    "b)\t1 1 \n",
    "c)\tNone None \n",
    "d)\tx y \n",
    "\n",
    "Ans: B "
   ]
  },
  {
   "cell_type": "code",
   "execution_count": null,
   "metadata": {},
   "outputs": [],
   "source": [
    "class Point:\n",
    "    def __init__(self, x = 0, y = 0):\n",
    "        self.x = x+1\n",
    "        self.y = y+1\n",
    "\n",
    "p1 = Point()\n",
    "print(p1.x, p1.y)"
   ]
  },
  {
   "cell_type": "markdown",
   "metadata": {},
   "source": [
    "# Q16. Which of the following code used the inheritance feature? \n",
    "a) \n",
    "Class Foo:\t \n",
    "\tPass\t \n",
    "b) \n",
    "class Foo(object): \n",
    "\tpass \n",
    "class Hoo(object): \n",
    "\tpass\n",
    "c) \n",
    "class Foo: \n",
    "\tpass \n",
    "class Hoo(Foo): \n",
    "\tpass\n",
    "\n",
    "d) None of the above code. \n",
    "\n",
    "Ans: C"
   ]
  },
  {
   "cell_type": "markdown",
   "metadata": {},
   "source": [
    "# Q17 If you a class is derived from two different classes, it’s called ______ \n",
    "a)\tMultilevel inheritance \n",
    "b)\tMultiple Inheritance  \n",
    "c)\tHierarchical Inheritance \n",
    "d)\tPython Inheritance \n",
    "\n",
    "Ans: B "
   ]
  },
  {
   "cell_type": "markdown",
   "metadata": {},
   "source": [
    "# Q18. Which of the following statements is true? \n",
    "a)\tIn Python, the same operator may behave differently depends upon the operands. \n",
    "b)\tYou can change the way operators which behave in Python. \n",
    "c)\tSpecial method __add()__ is called when + operator \n",
    "d)\tAll of the above. \n",
    "\n",
    "Ans: D"
   ]
  },
  {
   "cell_type": "code",
   "execution_count": null,
   "metadata": {},
   "outputs": [],
   "source": [
    "Q19. What is the output of the code? \n",
    "class Point:\n",
    "\tdef __init__(self, x = 0, y = 0):\n",
    "\t\tself.x = x\n",
    "\t\tself.y = y\n",
    "\t\t\n",
    "    def __sub__(self,other):\n",
    "\t\tx = self.x + other.x \n",
    "\t\ty = self.y + other.y \n",
    "\t\treturn Point(x,y) \n",
    "\t\t\n",
    "p1 = Point(3, 4) \n",
    "p2 = Point(1, 2) \n",
    "result = p1-p2 \n",
    "print(result.x, result.y)\n",
    "a)\t2 2 \n",
    "b)\t4 6 \n",
    "c)\t0 0 \n",
    "d)\t1 1 \n",
    "\n",
    "Ans: B "
   ]
  },
  {
   "cell_type": "code",
   "execution_count": 35,
   "metadata": {},
   "outputs": [],
   "source": [
    "class Point:\n",
    "    def __init__(self, x = 0, y = 0):\n",
    "        self.x = x\n",
    "        self.y = y\n",
    "    def __sub__(self,other):\n",
    "        x = self.x + other.x \n",
    "        y = self.y + other.y \n",
    "        return Point(x,y) \n",
    "\n",
    "p1 = Point(3, 4) \n"
   ]
  },
  {
   "cell_type": "code",
   "execution_count": 36,
   "metadata": {},
   "outputs": [
    {
     "name": "stdout",
     "output_type": "stream",
     "text": [
      "4 6\n"
     ]
    }
   ],
   "source": [
    "p2 = Point(1, 2) \n",
    "result = p1-p2\n",
    "print(result.x, result.y)"
   ]
  },
  {
   "cell_type": "markdown",
   "metadata": {},
   "source": [
    "# Q20. Opening a file in ‘a’ mode \n",
    "a)\topens a file for reading \n",
    "b)\topens a file for writing \n",
    "c)\topens the file for appending, at the end of file \n",
    "d)\topens a file for exclusive creation \n",
    "\n",
    "Ans: C"
   ]
  },
  {
   "cell_type": "markdown",
   "metadata": {},
   "source": [
    "# Q21. What does the following code do? \n",
    "           f = open(\"test.txt\") \n",
    "a)\tOpens test.txt file for both reading and writing \n",
    "b)\tOpens test.txt file for reading only \n",
    "c)\tOpens test.txt file for writing only \n",
    "d)\tOpens test.txt file in god mode \n",
    "\n",
    "Ans: B"
   ]
  },
  {
   "cell_type": "markdown",
   "metadata": {},
   "source": [
    "# Q22. Which of the codes closes files automatically if an exception  \n",
    " \toccurs? \n",
    "Choose one \n",
    "a) \n",
    "with open(\"test.txt\", encoding = 'utf-8')  as  f:\t \n",
    "\t# perform file operation\t \t\n",
    "b) \n",
    "try:\n",
    "    f = open(\"test.txt\",encoding = 'utf-8')\t \n",
    "    # perform file operations\t \t\n",
    "finally:\n",
    "    f.close()\t \t\t\n",
    " \n",
    "c)\tNone of the above \n",
    "d)\tBoth of the above \n",
    " \n",
    "Ans: B"
   ]
  },
  {
   "cell_type": "code",
   "execution_count": null,
   "metadata": {},
   "outputs": [],
   "source": []
  }
 ],
 "metadata": {
  "kernelspec": {
   "display_name": "Python 3",
   "language": "python",
   "name": "python3"
  },
  "language_info": {
   "codemirror_mode": {
    "name": "ipython",
    "version": 3
   },
   "file_extension": ".py",
   "mimetype": "text/x-python",
   "name": "python",
   "nbconvert_exporter": "python",
   "pygments_lexer": "ipython3",
   "version": "3.7.3"
  }
 },
 "nbformat": 4,
 "nbformat_minor": 2
}
